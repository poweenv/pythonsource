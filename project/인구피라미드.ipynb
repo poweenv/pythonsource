{
 "cells": [
  {
   "cell_type": "markdown",
   "metadata": {},
   "source": [
    "#### 연령별 인구 현황 데이터 셋\n",
    "    - https://jumin.mois.go.kr/ageStatMonth.do#none\n",
    "    - 남녀구분, 5세단위, 100세이상"
   ]
  },
  {
   "cell_type": "code",
   "execution_count": 1,
   "metadata": {},
   "outputs": [],
   "source": [
    "import pandas as pd\n",
    "import matplotlib.pyplot as plt"
   ]
  },
  {
   "cell_type": "code",
   "execution_count": 2,
   "metadata": {},
   "outputs": [],
   "source": [
    "plt.rcParams[\"font.family\"]=\"Malgun Gothic\"\n",
    "plt.rcParams[\"axes.unicode_minus\"] = False"
   ]
  },
  {
   "cell_type": "code",
   "execution_count": 3,
   "metadata": {},
   "outputs": [],
   "source": [
    "# warnings : 함수를 현재는 지원하나 나중에 삭제 시 경고 메세지가 발생\n",
    "import warnings\n",
    "warnings.simplefilter(\"ignore\")\n"
   ]
  },
  {
   "cell_type": "markdown",
   "metadata": {},
   "source": [
    "### 남, 여 데이터프레임 생성"
   ]
  },
  {
   "cell_type": "code",
   "execution_count": 8,
   "metadata": {},
   "outputs": [
    {
     "data": {
      "text/html": [
       "<div>\n",
       "<style scoped>\n",
       "    .dataframe tbody tr th:only-of-type {\n",
       "        vertical-align: middle;\n",
       "    }\n",
       "\n",
       "    .dataframe tbody tr th {\n",
       "        vertical-align: top;\n",
       "    }\n",
       "\n",
       "    .dataframe thead th {\n",
       "        text-align: right;\n",
       "    }\n",
       "</style>\n",
       "<table border=\"1\" class=\"dataframe\">\n",
       "  <thead>\n",
       "    <tr style=\"text-align: right;\">\n",
       "      <th></th>\n",
       "      <th>0~4세</th>\n",
       "      <th>5~9세</th>\n",
       "      <th>10~14세</th>\n",
       "      <th>15~19세</th>\n",
       "      <th>20~24세</th>\n",
       "      <th>25~29세</th>\n",
       "      <th>30~34세</th>\n",
       "      <th>35~39세</th>\n",
       "      <th>40~44세</th>\n",
       "      <th>45~49세</th>\n",
       "      <th>...</th>\n",
       "      <th>55~59세</th>\n",
       "      <th>60~64세</th>\n",
       "      <th>65~69세</th>\n",
       "      <th>70~74세</th>\n",
       "      <th>75~79세</th>\n",
       "      <th>80~84세</th>\n",
       "      <th>85~89세</th>\n",
       "      <th>90~94세</th>\n",
       "      <th>95~99세</th>\n",
       "      <th>100세 이상</th>\n",
       "    </tr>\n",
       "    <tr>\n",
       "      <th>행정기관</th>\n",
       "      <th></th>\n",
       "      <th></th>\n",
       "      <th></th>\n",
       "      <th></th>\n",
       "      <th></th>\n",
       "      <th></th>\n",
       "      <th></th>\n",
       "      <th></th>\n",
       "      <th></th>\n",
       "      <th></th>\n",
       "      <th></th>\n",
       "      <th></th>\n",
       "      <th></th>\n",
       "      <th></th>\n",
       "      <th></th>\n",
       "      <th></th>\n",
       "      <th></th>\n",
       "      <th></th>\n",
       "      <th></th>\n",
       "      <th></th>\n",
       "      <th></th>\n",
       "    </tr>\n",
       "  </thead>\n",
       "  <tbody>\n",
       "    <tr>\n",
       "      <th>전국</th>\n",
       "      <td>706,625</td>\n",
       "      <td>1,052,112</td>\n",
       "      <td>1,205,210</td>\n",
       "      <td>1,202,795</td>\n",
       "      <td>1,490,016</td>\n",
       "      <td>1,805,935</td>\n",
       "      <td>1,767,267</td>\n",
       "      <td>1,654,974</td>\n",
       "      <td>2,060,002</td>\n",
       "      <td>2,003,993</td>\n",
       "      <td>...</td>\n",
       "      <td>2,049,129</td>\n",
       "      <td>2,122,654</td>\n",
       "      <td>1,591,968</td>\n",
       "      <td>1,051,593</td>\n",
       "      <td>730,834</td>\n",
       "      <td>517,546</td>\n",
       "      <td>220,922</td>\n",
       "      <td>56,592</td>\n",
       "      <td>9,135</td>\n",
       "      <td>1,520</td>\n",
       "    </tr>\n",
       "    <tr>\n",
       "      <th>서울특별시</th>\n",
       "      <td>113,314</td>\n",
       "      <td>157,840</td>\n",
       "      <td>184,094</td>\n",
       "      <td>195,604</td>\n",
       "      <td>267,118</td>\n",
       "      <td>388,073</td>\n",
       "      <td>386,717</td>\n",
       "      <td>326,992</td>\n",
       "      <td>364,597</td>\n",
       "      <td>344,645</td>\n",
       "      <td>...</td>\n",
       "      <td>336,153</td>\n",
       "      <td>344,878</td>\n",
       "      <td>275,917</td>\n",
       "      <td>189,812</td>\n",
       "      <td>139,076</td>\n",
       "      <td>96,104</td>\n",
       "      <td>38,116</td>\n",
       "      <td>9,813</td>\n",
       "      <td>1,745</td>\n",
       "      <td>330</td>\n",
       "    </tr>\n",
       "    <tr>\n",
       "      <th>부산광역시</th>\n",
       "      <td>39,970</td>\n",
       "      <td>62,965</td>\n",
       "      <td>68,934</td>\n",
       "      <td>66,965</td>\n",
       "      <td>91,216</td>\n",
       "      <td>107,505</td>\n",
       "      <td>105,069</td>\n",
       "      <td>97,652</td>\n",
       "      <td>127,323</td>\n",
       "      <td>119,958</td>\n",
       "      <td>...</td>\n",
       "      <td>125,435</td>\n",
       "      <td>143,107</td>\n",
       "      <td>121,110</td>\n",
       "      <td>84,688</td>\n",
       "      <td>57,025</td>\n",
       "      <td>38,158</td>\n",
       "      <td>14,067</td>\n",
       "      <td>3,206</td>\n",
       "      <td>449</td>\n",
       "      <td>77</td>\n",
       "    </tr>\n",
       "    <tr>\n",
       "      <th>대구광역시</th>\n",
       "      <td>30,306</td>\n",
       "      <td>48,282</td>\n",
       "      <td>54,754</td>\n",
       "      <td>56,380</td>\n",
       "      <td>72,104</td>\n",
       "      <td>79,639</td>\n",
       "      <td>77,424</td>\n",
       "      <td>70,646</td>\n",
       "      <td>87,804</td>\n",
       "      <td>89,540</td>\n",
       "      <td>...</td>\n",
       "      <td>96,705</td>\n",
       "      <td>98,071</td>\n",
       "      <td>71,887</td>\n",
       "      <td>50,586</td>\n",
       "      <td>32,063</td>\n",
       "      <td>23,740</td>\n",
       "      <td>9,840</td>\n",
       "      <td>2,344</td>\n",
       "      <td>317</td>\n",
       "      <td>33</td>\n",
       "    </tr>\n",
       "    <tr>\n",
       "      <th>인천광역시</th>\n",
       "      <td>42,977</td>\n",
       "      <td>62,230</td>\n",
       "      <td>70,588</td>\n",
       "      <td>69,101</td>\n",
       "      <td>84,482</td>\n",
       "      <td>107,400</td>\n",
       "      <td>110,460</td>\n",
       "      <td>101,927</td>\n",
       "      <td>127,298</td>\n",
       "      <td>119,359</td>\n",
       "      <td>...</td>\n",
       "      <td>120,962</td>\n",
       "      <td>126,495</td>\n",
       "      <td>87,581</td>\n",
       "      <td>53,095</td>\n",
       "      <td>36,393</td>\n",
       "      <td>23,446</td>\n",
       "      <td>9,811</td>\n",
       "      <td>2,541</td>\n",
       "      <td>459</td>\n",
       "      <td>106</td>\n",
       "    </tr>\n",
       "  </tbody>\n",
       "</table>\n",
       "<p>5 rows × 21 columns</p>\n",
       "</div>"
      ],
      "text/plain": [
       "            0~4세       5~9세     10~14세     15~19세     20~24세     25~29세  \\\n",
       "행정기관                                                                      \n",
       "전국       706,625  1,052,112  1,205,210  1,202,795  1,490,016  1,805,935   \n",
       "서울특별시    113,314    157,840    184,094    195,604    267,118    388,073   \n",
       "부산광역시     39,970     62,965     68,934     66,965     91,216    107,505   \n",
       "대구광역시     30,306     48,282     54,754     56,380     72,104     79,639   \n",
       "인천광역시     42,977     62,230     70,588     69,101     84,482    107,400   \n",
       "\n",
       "            30~34세     35~39세     40~44세     45~49세  ...     55~59세  \\\n",
       "행정기관                                                 ...              \n",
       "전국       1,767,267  1,654,974  2,060,002  2,003,993  ...  2,049,129   \n",
       "서울특별시      386,717    326,992    364,597    344,645  ...    336,153   \n",
       "부산광역시      105,069     97,652    127,323    119,958  ...    125,435   \n",
       "대구광역시       77,424     70,646     87,804     89,540  ...     96,705   \n",
       "인천광역시      110,460    101,927    127,298    119,359  ...    120,962   \n",
       "\n",
       "            60~64세     65~69세     70~74세   75~79세   80~84세   85~89세  90~94세  \\\n",
       "행정기관                                                                          \n",
       "전국       2,122,654  1,591,968  1,051,593  730,834  517,546  220,922  56,592   \n",
       "서울특별시      344,878    275,917    189,812  139,076   96,104   38,116   9,813   \n",
       "부산광역시      143,107    121,110     84,688   57,025   38,158   14,067   3,206   \n",
       "대구광역시       98,071     71,887     50,586   32,063   23,740    9,840   2,344   \n",
       "인천광역시      126,495     87,581     53,095   36,393   23,446    9,811   2,541   \n",
       "\n",
       "        95~99세 100세 이상  \n",
       "행정기관                    \n",
       "전국       9,135   1,520  \n",
       "서울특별시    1,745     330  \n",
       "부산광역시      449      77  \n",
       "대구광역시      317      33  \n",
       "인천광역시      459     106  \n",
       "\n",
       "[5 rows x 21 columns]"
      ]
     },
     "execution_count": 8,
     "metadata": {},
     "output_type": "execute_result"
    }
   ],
   "source": [
    "# 원본 데이터에서 남자데이터 가져오기\n",
    "df_men =pd.read_excel(\"./data/202306_202306_연령별인구현황_월간.xlsx\",skiprows=3,usecols=\"B,E:Y\",index_col=\"행정기관\")\n",
    "\n",
    "df_men.head()"
   ]
  },
  {
   "cell_type": "code",
   "execution_count": 9,
   "metadata": {},
   "outputs": [
    {
     "data": {
      "text/html": [
       "<div>\n",
       "<style scoped>\n",
       "    .dataframe tbody tr th:only-of-type {\n",
       "        vertical-align: middle;\n",
       "    }\n",
       "\n",
       "    .dataframe tbody tr th {\n",
       "        vertical-align: top;\n",
       "    }\n",
       "\n",
       "    .dataframe thead th {\n",
       "        text-align: right;\n",
       "    }\n",
       "</style>\n",
       "<table border=\"1\" class=\"dataframe\">\n",
       "  <thead>\n",
       "    <tr style=\"text-align: right;\">\n",
       "      <th></th>\n",
       "      <th>0~4세.1</th>\n",
       "      <th>5~9세.1</th>\n",
       "      <th>10~14세.1</th>\n",
       "      <th>15~19세.1</th>\n",
       "      <th>20~24세.1</th>\n",
       "      <th>25~29세.1</th>\n",
       "      <th>30~34세.1</th>\n",
       "      <th>35~39세.1</th>\n",
       "      <th>40~44세.1</th>\n",
       "      <th>45~49세.1</th>\n",
       "      <th>...</th>\n",
       "      <th>55~59세.1</th>\n",
       "      <th>60~64세.1</th>\n",
       "      <th>65~69세.1</th>\n",
       "      <th>70~74세.1</th>\n",
       "      <th>75~79세.1</th>\n",
       "      <th>80~84세.1</th>\n",
       "      <th>85~89세.1</th>\n",
       "      <th>90~94세.1</th>\n",
       "      <th>95~99세.1</th>\n",
       "      <th>100세 이상.1</th>\n",
       "    </tr>\n",
       "    <tr>\n",
       "      <th>행정기관</th>\n",
       "      <th></th>\n",
       "      <th></th>\n",
       "      <th></th>\n",
       "      <th></th>\n",
       "      <th></th>\n",
       "      <th></th>\n",
       "      <th></th>\n",
       "      <th></th>\n",
       "      <th></th>\n",
       "      <th></th>\n",
       "      <th></th>\n",
       "      <th></th>\n",
       "      <th></th>\n",
       "      <th></th>\n",
       "      <th></th>\n",
       "      <th></th>\n",
       "      <th></th>\n",
       "      <th></th>\n",
       "      <th></th>\n",
       "      <th></th>\n",
       "      <th></th>\n",
       "    </tr>\n",
       "  </thead>\n",
       "  <tbody>\n",
       "    <tr>\n",
       "      <th>전국</th>\n",
       "      <td>671,918</td>\n",
       "      <td>1,001,255</td>\n",
       "      <td>1,140,109</td>\n",
       "      <td>1,127,886</td>\n",
       "      <td>1,372,894</td>\n",
       "      <td>1,633,056</td>\n",
       "      <td>1,600,066</td>\n",
       "      <td>1,566,245</td>\n",
       "      <td>1,988,569</td>\n",
       "      <td>1,945,511</td>\n",
       "      <td>...</td>\n",
       "      <td>2,022,964</td>\n",
       "      <td>2,153,887</td>\n",
       "      <td>1,685,373</td>\n",
       "      <td>1,190,669</td>\n",
       "      <td>921,394</td>\n",
       "      <td>810,091</td>\n",
       "      <td>473,297</td>\n",
       "      <td>182,805</td>\n",
       "      <td>41,327</td>\n",
       "      <td>7,516</td>\n",
       "    </tr>\n",
       "    <tr>\n",
       "      <th>서울특별시</th>\n",
       "      <td>106,557</td>\n",
       "      <td>150,890</td>\n",
       "      <td>174,431</td>\n",
       "      <td>188,477</td>\n",
       "      <td>301,831</td>\n",
       "      <td>419,021</td>\n",
       "      <td>385,079</td>\n",
       "      <td>328,070</td>\n",
       "      <td>370,355</td>\n",
       "      <td>353,854</td>\n",
       "      <td>...</td>\n",
       "      <td>351,170</td>\n",
       "      <td>375,865</td>\n",
       "      <td>315,840</td>\n",
       "      <td>223,402</td>\n",
       "      <td>173,640</td>\n",
       "      <td>129,786</td>\n",
       "      <td>68,429</td>\n",
       "      <td>25,956</td>\n",
       "      <td>6,355</td>\n",
       "      <td>1,165</td>\n",
       "    </tr>\n",
       "    <tr>\n",
       "      <th>부산광역시</th>\n",
       "      <td>38,152</td>\n",
       "      <td>59,540</td>\n",
       "      <td>65,418</td>\n",
       "      <td>63,454</td>\n",
       "      <td>86,644</td>\n",
       "      <td>101,193</td>\n",
       "      <td>97,347</td>\n",
       "      <td>93,724</td>\n",
       "      <td>124,332</td>\n",
       "      <td>118,194</td>\n",
       "      <td>...</td>\n",
       "      <td>134,729</td>\n",
       "      <td>159,856</td>\n",
       "      <td>136,522</td>\n",
       "      <td>100,859</td>\n",
       "      <td>71,847</td>\n",
       "      <td>57,545</td>\n",
       "      <td>29,455</td>\n",
       "      <td>10,624</td>\n",
       "      <td>2,495</td>\n",
       "      <td>384</td>\n",
       "    </tr>\n",
       "    <tr>\n",
       "      <th>대구광역시</th>\n",
       "      <td>28,643</td>\n",
       "      <td>46,337</td>\n",
       "      <td>51,651</td>\n",
       "      <td>52,185</td>\n",
       "      <td>64,330</td>\n",
       "      <td>71,139</td>\n",
       "      <td>66,244</td>\n",
       "      <td>64,345</td>\n",
       "      <td>89,686</td>\n",
       "      <td>91,921</td>\n",
       "      <td>...</td>\n",
       "      <td>101,698</td>\n",
       "      <td>105,719</td>\n",
       "      <td>80,615</td>\n",
       "      <td>61,954</td>\n",
       "      <td>43,742</td>\n",
       "      <td>38,092</td>\n",
       "      <td>20,785</td>\n",
       "      <td>7,358</td>\n",
       "      <td>1,507</td>\n",
       "      <td>230</td>\n",
       "    </tr>\n",
       "    <tr>\n",
       "      <th>인천광역시</th>\n",
       "      <td>40,822</td>\n",
       "      <td>59,153</td>\n",
       "      <td>66,841</td>\n",
       "      <td>65,463</td>\n",
       "      <td>78,447</td>\n",
       "      <td>98,779</td>\n",
       "      <td>100,145</td>\n",
       "      <td>95,325</td>\n",
       "      <td>119,611</td>\n",
       "      <td>114,106</td>\n",
       "      <td>...</td>\n",
       "      <td>123,451</td>\n",
       "      <td>127,057</td>\n",
       "      <td>92,147</td>\n",
       "      <td>58,296</td>\n",
       "      <td>45,101</td>\n",
       "      <td>37,338</td>\n",
       "      <td>21,837</td>\n",
       "      <td>9,173</td>\n",
       "      <td>2,155</td>\n",
       "      <td>413</td>\n",
       "    </tr>\n",
       "  </tbody>\n",
       "</table>\n",
       "<p>5 rows × 21 columns</p>\n",
       "</div>"
      ],
      "text/plain": [
       "          0~4세.1     5~9세.1   10~14세.1   15~19세.1   20~24세.1   25~29세.1  \\\n",
       "행정기관                                                                      \n",
       "전국       671,918  1,001,255  1,140,109  1,127,886  1,372,894  1,633,056   \n",
       "서울특별시    106,557    150,890    174,431    188,477    301,831    419,021   \n",
       "부산광역시     38,152     59,540     65,418     63,454     86,644    101,193   \n",
       "대구광역시     28,643     46,337     51,651     52,185     64,330     71,139   \n",
       "인천광역시     40,822     59,153     66,841     65,463     78,447     98,779   \n",
       "\n",
       "          30~34세.1   35~39세.1   40~44세.1   45~49세.1  ...   55~59세.1  \\\n",
       "행정기관                                                 ...              \n",
       "전국       1,600,066  1,566,245  1,988,569  1,945,511  ...  2,022,964   \n",
       "서울특별시      385,079    328,070    370,355    353,854  ...    351,170   \n",
       "부산광역시       97,347     93,724    124,332    118,194  ...    134,729   \n",
       "대구광역시       66,244     64,345     89,686     91,921  ...    101,698   \n",
       "인천광역시      100,145     95,325    119,611    114,106  ...    123,451   \n",
       "\n",
       "          60~64세.1   65~69세.1   70~74세.1 75~79세.1 80~84세.1 85~89세.1 90~94세.1  \\\n",
       "행정기관                                                                           \n",
       "전국       2,153,887  1,685,373  1,190,669  921,394  810,091  473,297  182,805   \n",
       "서울특별시      375,865    315,840    223,402  173,640  129,786   68,429   25,956   \n",
       "부산광역시      159,856    136,522    100,859   71,847   57,545   29,455   10,624   \n",
       "대구광역시      105,719     80,615     61,954   43,742   38,092   20,785    7,358   \n",
       "인천광역시      127,057     92,147     58,296   45,101   37,338   21,837    9,173   \n",
       "\n",
       "        95~99세.1 100세 이상.1  \n",
       "행정기관                        \n",
       "전국        41,327     7,516  \n",
       "서울특별시      6,355     1,165  \n",
       "부산광역시      2,495       384  \n",
       "대구광역시      1,507       230  \n",
       "인천광역시      2,155       413  \n",
       "\n",
       "[5 rows x 21 columns]"
      ]
     },
     "execution_count": 9,
     "metadata": {},
     "output_type": "execute_result"
    }
   ],
   "source": [
    "# 원본 데이터에서 남자데이터 가져오기\n",
    "df_women =pd.read_excel(\"./data/202306_202306_연령별인구현황_월간.xlsx\"\n",
    "                        ,skiprows=3,usecols=\"B,AB:AV\",index_col=\"행정기관\")\n",
    "\n",
    "df_women.head()"
   ]
  },
  {
   "cell_type": "markdown",
   "metadata": {},
   "source": [
    "## 데이터 탐색"
   ]
  },
  {
   "cell_type": "code",
   "execution_count": 10,
   "metadata": {},
   "outputs": [
    {
     "name": "stdout",
     "output_type": "stream",
     "text": [
      "<class 'pandas.core.frame.DataFrame'>\n",
      "Index: 18 entries, 전국   to 제주특별자치도  \n",
      "Data columns (total 21 columns):\n",
      " #   Column   Non-Null Count  Dtype \n",
      "---  ------   --------------  ----- \n",
      " 0   0~4세     18 non-null     object\n",
      " 1   5~9세     18 non-null     object\n",
      " 2   10~14세   18 non-null     object\n",
      " 3   15~19세   18 non-null     object\n",
      " 4   20~24세   18 non-null     object\n",
      " 5   25~29세   18 non-null     object\n",
      " 6   30~34세   18 non-null     object\n",
      " 7   35~39세   18 non-null     object\n",
      " 8   40~44세   18 non-null     object\n",
      " 9   45~49세   18 non-null     object\n",
      " 10  50~54세   18 non-null     object\n",
      " 11  55~59세   18 non-null     object\n",
      " 12  60~64세   18 non-null     object\n",
      " 13  65~69세   18 non-null     object\n",
      " 14  70~74세   18 non-null     object\n",
      " 15  75~79세   18 non-null     object\n",
      " 16  80~84세   18 non-null     object\n",
      " 17  85~89세   18 non-null     object\n",
      " 18  90~94세   18 non-null     object\n",
      " 19  95~99세   18 non-null     object\n",
      " 20  100세 이상  18 non-null     object\n",
      "dtypes: object(21)\n",
      "memory usage: 3.1+ KB\n"
     ]
    }
   ],
   "source": [
    "# 전체 컬렁명, 데이터 타입 확인\n",
    "\n",
    "df_men.info()"
   ]
  },
  {
   "cell_type": "markdown",
   "metadata": {},
   "source": [
    "##### 데이터 전처리\n",
    "    - 수치 데이터 object => int64 변경( df.astype(),pd.to_numeric())"
   ]
  },
  {
   "cell_type": "code",
   "execution_count": 22,
   "metadata": {},
   "outputs": [
    {
     "data": {
      "text/html": [
       "<div>\n",
       "<style scoped>\n",
       "    .dataframe tbody tr th:only-of-type {\n",
       "        vertical-align: middle;\n",
       "    }\n",
       "\n",
       "    .dataframe tbody tr th {\n",
       "        vertical-align: top;\n",
       "    }\n",
       "\n",
       "    .dataframe thead th {\n",
       "        text-align: right;\n",
       "    }\n",
       "</style>\n",
       "<table border=\"1\" class=\"dataframe\">\n",
       "  <thead>\n",
       "    <tr style=\"text-align: right;\">\n",
       "      <th></th>\n",
       "      <th>name</th>\n",
       "      <th>age</th>\n",
       "    </tr>\n",
       "  </thead>\n",
       "  <tbody>\n",
       "    <tr>\n",
       "      <th>0</th>\n",
       "      <td>hong</td>\n",
       "      <td>200</td>\n",
       "    </tr>\n",
       "    <tr>\n",
       "      <th>1</th>\n",
       "      <td>sung</td>\n",
       "      <td>NaN</td>\n",
       "    </tr>\n",
       "    <tr>\n",
       "      <th>2</th>\n",
       "      <td>jung</td>\n",
       "      <td>600</td>\n",
       "    </tr>\n",
       "  </tbody>\n",
       "</table>\n",
       "</div>"
      ],
      "text/plain": [
       "   name  age\n",
       "0  hong  200\n",
       "1  sung  NaN\n",
       "2  jung  600"
      ]
     },
     "execution_count": 22,
     "metadata": {},
     "output_type": "execute_result"
    }
   ],
   "source": [
    "import numpy as np\n",
    "df =pd.DataFrame(\n",
    "    {\n",
    "        \"name\":[\"hong\",\"sung\",\"jung\"],\n",
    "        \"age\":[\"200\",np.nan,\"600\"],\n",
    "    }\n",
    ")\n",
    "df"
   ]
  },
  {
   "cell_type": "code",
   "execution_count": 23,
   "metadata": {},
   "outputs": [
    {
     "data": {
      "text/plain": [
       "name    object\n",
       "age     object\n",
       "dtype: object"
      ]
     },
     "execution_count": 23,
     "metadata": {},
     "output_type": "execute_result"
    }
   ],
   "source": [
    "df.dtypes\n"
   ]
  },
  {
   "cell_type": "code",
   "execution_count": null,
   "metadata": {},
   "outputs": [],
   "source": [
    "# astype() : 숫자에 , 가 없어야 함\n",
    "df[\"age1\"] = df[\"age\"].astype(\"int64\")"
   ]
  },
  {
   "cell_type": "code",
   "execution_count": null,
   "metadata": {},
   "outputs": [],
   "source": [
    "# , 제거 후 astype()\n",
    "# replace(\",\",\"\")"
   ]
  },
  {
   "cell_type": "code",
   "execution_count": 26,
   "metadata": {},
   "outputs": [
    {
     "data": {
      "text/plain": [
       "행정기관\n",
       "전국           706625\n",
       "서울특별시        113314\n",
       "부산광역시         39970\n",
       "대구광역시         30306\n",
       "인천광역시         42977\n",
       "광주광역시         20688\n",
       "대전광역시         20908\n",
       "울산광역시         16069\n",
       "세종특별자치시        9210\n",
       "경기도          212321\n",
       "강원특별자치도       20262\n",
       "충청북도          22050\n",
       "충청남도          30179\n",
       "전라북도          20479\n",
       "전라남도          22871\n",
       "경상북도          32271\n",
       "경상남도          42184\n",
       "제주특별자치도       10566\n",
       "Name: 0~4세, dtype: int64"
      ]
     },
     "execution_count": 26,
     "metadata": {},
     "output_type": "execute_result"
    }
   ],
   "source": [
    "df_men[\"0~4세\"].str.replace(\",\",\"\").astype(\"int64\")"
   ]
  },
  {
   "cell_type": "code",
   "execution_count": null,
   "metadata": {},
   "outputs": [],
   "source": [
    "# 모든 컬럼에 , 를 제거하고 데이터 타입 변경해야 함 => 함수작성\n",
    "df_men=df_men.apply(lambda x:x.str.replace(\",\",\"\").astype(\"int64\"))\n",
    "df_women=df_men.apply(lambda x:x.str.replace(\",\",\"\").astype(\"int64\"))"
   ]
  },
  {
   "cell_type": "markdown",
   "metadata": {},
   "source": [
    "- 남자, 여자 컬럼명 통일"
   ]
  },
  {
   "cell_type": "code",
   "execution_count": 28,
   "metadata": {},
   "outputs": [
    {
     "data": {
      "text/plain": [
       "Index(['0~4세', '5~9세', '10~14세', '15~19세', '20~24세', '25~29세', '30~34세',\n",
       "       '35~39세', '40~44세', '45~49세', '50~54세', '55~59세', '60~64세', '65~69세',\n",
       "       '70~74세', '75~79세', '80~84세', '85~89세', '90~94세', '95~99세', '100세 이상'],\n",
       "      dtype='object')"
      ]
     },
     "execution_count": 28,
     "metadata": {},
     "output_type": "execute_result"
    }
   ],
   "source": [
    "df_men.columns"
   ]
  },
  {
   "cell_type": "code",
   "execution_count": 29,
   "metadata": {},
   "outputs": [
    {
     "data": {
      "text/plain": [
       "Index(['0~4세.1', '5~9세.1', '10~14세.1', '15~19세.1', '20~24세.1', '25~29세.1',\n",
       "       '30~34세.1', '35~39세.1', '40~44세.1', '45~49세.1', '50~54세.1', '55~59세.1',\n",
       "       '60~64세.1', '65~69세.1', '70~74세.1', '75~79세.1', '80~84세.1', '85~89세.1',\n",
       "       '90~94세.1', '95~99세.1', '100세 이상.1'],\n",
       "      dtype='object')"
      ]
     },
     "execution_count": 29,
     "metadata": {},
     "output_type": "execute_result"
    }
   ],
   "source": [
    "df_women.columns"
   ]
  },
  {
   "cell_type": "code",
   "execution_count": 30,
   "metadata": {},
   "outputs": [],
   "source": [
    "df_women.columns=df_men.columns"
   ]
  },
  {
   "cell_type": "code",
   "execution_count": null,
   "metadata": {},
   "outputs": [],
   "source": [
    "plt.figure(figsize=(10,7))\n",
    "plt.barh()\n",
    "\n",
    "\n",
    "plt.show()"
   ]
  },
  {
   "cell_type": "code",
   "execution_count": 32,
   "metadata": {},
   "outputs": [
    {
     "data": {
      "text/plain": [
       "0~4세        706625\n",
       "5~9세       1052112\n",
       "10~14세     1205210\n",
       "15~19세     1202795\n",
       "20~24세     1490016\n",
       "25~29세     1805935\n",
       "30~34세     1767267\n",
       "35~39세     1654974\n",
       "40~44세     2060002\n",
       "45~49세     2003993\n",
       "50~54세     2306422\n",
       "55~59세     2049129\n",
       "60~64세     2122654\n",
       "65~69세     1591968\n",
       "70~74세     1051593\n",
       "75~79세      730834\n",
       "80~84세      517546\n",
       "85~89세      220922\n",
       "90~94세       56592\n",
       "95~99세        9135\n",
       "100세 이상       1520\n",
       "Name: 전국  , dtype: int64"
      ]
     },
     "execution_count": 32,
     "metadata": {},
     "output_type": "execute_result"
    }
   ],
   "source": [
    "df_men.iloc[0]"
   ]
  },
  {
   "cell_type": "code",
   "execution_count": 36,
   "metadata": {},
   "outputs": [
    {
     "ename": "TypeError",
     "evalue": "unsupported operand type(s) for //: 'str' and 'int'",
     "output_type": "error",
     "traceback": [
      "\u001b[1;31m---------------------------------------------------------------------------\u001b[0m",
      "\u001b[1;31mTypeError\u001b[0m                                 Traceback (most recent call last)",
      "File \u001b[1;32mc:\\source\\pythonsource\\Lib\\site-packages\\pandas\\core\\ops\\array_ops.py:171\u001b[0m, in \u001b[0;36m_na_arithmetic_op\u001b[1;34m(left, right, op, is_cmp)\u001b[0m\n\u001b[0;32m    170\u001b[0m \u001b[39mtry\u001b[39;00m:\n\u001b[1;32m--> 171\u001b[0m     result \u001b[39m=\u001b[39m func(left, right)\n\u001b[0;32m    172\u001b[0m \u001b[39mexcept\u001b[39;00m \u001b[39mTypeError\u001b[39;00m:\n",
      "File \u001b[1;32mc:\\source\\pythonsource\\Lib\\site-packages\\pandas\\core\\computation\\expressions.py:240\u001b[0m, in \u001b[0;36mevaluate\u001b[1;34m(op, a, b, use_numexpr)\u001b[0m\n\u001b[0;32m    239\u001b[0m         \u001b[39mreturn\u001b[39;00m _evaluate(op, op_str, a, b)  \u001b[39m# type: ignore[misc]\u001b[39;00m\n\u001b[1;32m--> 240\u001b[0m \u001b[39mreturn\u001b[39;00m _evaluate_standard(op, op_str, a, b)\n",
      "File \u001b[1;32mc:\\source\\pythonsource\\Lib\\site-packages\\pandas\\core\\computation\\expressions.py:70\u001b[0m, in \u001b[0;36m_evaluate_standard\u001b[1;34m(op, op_str, a, b)\u001b[0m\n\u001b[0;32m     69\u001b[0m     _store_test_result(\u001b[39mFalse\u001b[39;00m)\n\u001b[1;32m---> 70\u001b[0m \u001b[39mreturn\u001b[39;00m op(a, b)\n",
      "\u001b[1;31mTypeError\u001b[0m: unsupported operand type(s) for //: 'str' and 'int'",
      "\nDuring handling of the above exception, another exception occurred:\n",
      "\u001b[1;31mTypeError\u001b[0m                                 Traceback (most recent call last)",
      "Cell \u001b[1;32mIn[36], line 3\u001b[0m\n\u001b[0;32m      1\u001b[0m plt\u001b[39m.\u001b[39mfigure(figsize\u001b[39m=\u001b[39m(\u001b[39m10\u001b[39m,\u001b[39m7\u001b[39m))\n\u001b[0;32m      2\u001b[0m plt\u001b[39m.\u001b[39mbarh(y\u001b[39m=\u001b[39mdf_men\u001b[39m.\u001b[39mcolumns,width\u001b[39m=\u001b[39m\u001b[39m-\u001b[39mdf_men\u001b[39m.\u001b[39miloc[\u001b[39m0\u001b[39m] \u001b[39m/\u001b[39m\u001b[39m/\u001b[39m \u001b[39m10000\u001b[39m)\n\u001b[1;32m----> 3\u001b[0m plt\u001b[39m.\u001b[39mbarh(y\u001b[39m=\u001b[39mdf_women\u001b[39m.\u001b[39mcolumns,width\u001b[39m=\u001b[39mdf_women\u001b[39m.\u001b[39;49miloc[\u001b[39m0\u001b[39;49m] \u001b[39m/\u001b[39;49m\u001b[39m/\u001b[39;49m \u001b[39m10000\u001b[39;49m)\n\u001b[0;32m      4\u001b[0m plt\u001b[39m.\u001b[39mtitle(\u001b[39m\"\u001b[39m\u001b[39m2023 6월 기준 대한민국 인구 피라미드\u001b[39m\u001b[39m\"\u001b[39m)\n\u001b[0;32m      5\u001b[0m plt\u001b[39m.\u001b[39msavefig(\u001b[39m\"\u001b[39m\u001b[39m202306_인구피라미드.png\u001b[39m\u001b[39m\"\u001b[39m)\n",
      "File \u001b[1;32mc:\\source\\pythonsource\\Lib\\site-packages\\pandas\\core\\ops\\common.py:81\u001b[0m, in \u001b[0;36m_unpack_zerodim_and_defer.<locals>.new_method\u001b[1;34m(self, other)\u001b[0m\n\u001b[0;32m     77\u001b[0m             \u001b[39mreturn\u001b[39;00m \u001b[39mNotImplemented\u001b[39m\n\u001b[0;32m     79\u001b[0m other \u001b[39m=\u001b[39m item_from_zerodim(other)\n\u001b[1;32m---> 81\u001b[0m \u001b[39mreturn\u001b[39;00m method(\u001b[39mself\u001b[39;49m, other)\n",
      "File \u001b[1;32mc:\\source\\pythonsource\\Lib\\site-packages\\pandas\\core\\arraylike.py:218\u001b[0m, in \u001b[0;36mOpsMixin.__floordiv__\u001b[1;34m(self, other)\u001b[0m\n\u001b[0;32m    216\u001b[0m \u001b[39m@unpack_zerodim_and_defer\u001b[39m(\u001b[39m\"\u001b[39m\u001b[39m__floordiv__\u001b[39m\u001b[39m\"\u001b[39m)\n\u001b[0;32m    217\u001b[0m \u001b[39mdef\u001b[39;00m \u001b[39m__floordiv__\u001b[39m(\u001b[39mself\u001b[39m, other):\n\u001b[1;32m--> 218\u001b[0m     \u001b[39mreturn\u001b[39;00m \u001b[39mself\u001b[39;49m\u001b[39m.\u001b[39;49m_arith_method(other, operator\u001b[39m.\u001b[39;49mfloordiv)\n",
      "File \u001b[1;32mc:\\source\\pythonsource\\Lib\\site-packages\\pandas\\core\\series.py:6112\u001b[0m, in \u001b[0;36mSeries._arith_method\u001b[1;34m(self, other, op)\u001b[0m\n\u001b[0;32m   6110\u001b[0m \u001b[39mdef\u001b[39;00m \u001b[39m_arith_method\u001b[39m(\u001b[39mself\u001b[39m, other, op):\n\u001b[0;32m   6111\u001b[0m     \u001b[39mself\u001b[39m, other \u001b[39m=\u001b[39m ops\u001b[39m.\u001b[39malign_method_SERIES(\u001b[39mself\u001b[39m, other)\n\u001b[1;32m-> 6112\u001b[0m     \u001b[39mreturn\u001b[39;00m base\u001b[39m.\u001b[39;49mIndexOpsMixin\u001b[39m.\u001b[39;49m_arith_method(\u001b[39mself\u001b[39;49m, other, op)\n",
      "File \u001b[1;32mc:\\source\\pythonsource\\Lib\\site-packages\\pandas\\core\\base.py:1348\u001b[0m, in \u001b[0;36mIndexOpsMixin._arith_method\u001b[1;34m(self, other, op)\u001b[0m\n\u001b[0;32m   1345\u001b[0m rvalues \u001b[39m=\u001b[39m ensure_wrapped_if_datetimelike(rvalues)\n\u001b[0;32m   1347\u001b[0m \u001b[39mwith\u001b[39;00m np\u001b[39m.\u001b[39merrstate(\u001b[39mall\u001b[39m\u001b[39m=\u001b[39m\u001b[39m\"\u001b[39m\u001b[39mignore\u001b[39m\u001b[39m\"\u001b[39m):\n\u001b[1;32m-> 1348\u001b[0m     result \u001b[39m=\u001b[39m ops\u001b[39m.\u001b[39;49marithmetic_op(lvalues, rvalues, op)\n\u001b[0;32m   1350\u001b[0m \u001b[39mreturn\u001b[39;00m \u001b[39mself\u001b[39m\u001b[39m.\u001b[39m_construct_result(result, name\u001b[39m=\u001b[39mres_name)\n",
      "File \u001b[1;32mc:\\source\\pythonsource\\Lib\\site-packages\\pandas\\core\\ops\\array_ops.py:232\u001b[0m, in \u001b[0;36marithmetic_op\u001b[1;34m(left, right, op)\u001b[0m\n\u001b[0;32m    228\u001b[0m     _bool_arith_check(op, left, right)\n\u001b[0;32m    230\u001b[0m     \u001b[39m# error: Argument 1 to \"_na_arithmetic_op\" has incompatible type\u001b[39;00m\n\u001b[0;32m    231\u001b[0m     \u001b[39m# \"Union[ExtensionArray, ndarray[Any, Any]]\"; expected \"ndarray[Any, Any]\"\u001b[39;00m\n\u001b[1;32m--> 232\u001b[0m     res_values \u001b[39m=\u001b[39m _na_arithmetic_op(left, right, op)  \u001b[39m# type: ignore[arg-type]\u001b[39;00m\n\u001b[0;32m    234\u001b[0m \u001b[39mreturn\u001b[39;00m res_values\n",
      "File \u001b[1;32mc:\\source\\pythonsource\\Lib\\site-packages\\pandas\\core\\ops\\array_ops.py:178\u001b[0m, in \u001b[0;36m_na_arithmetic_op\u001b[1;34m(left, right, op, is_cmp)\u001b[0m\n\u001b[0;32m    172\u001b[0m \u001b[39mexcept\u001b[39;00m \u001b[39mTypeError\u001b[39;00m:\n\u001b[0;32m    173\u001b[0m     \u001b[39mif\u001b[39;00m \u001b[39mnot\u001b[39;00m is_cmp \u001b[39mand\u001b[39;00m (is_object_dtype(left\u001b[39m.\u001b[39mdtype) \u001b[39mor\u001b[39;00m is_object_dtype(right)):\n\u001b[0;32m    174\u001b[0m         \u001b[39m# For object dtype, fallback to a masked operation (only operating\u001b[39;00m\n\u001b[0;32m    175\u001b[0m         \u001b[39m#  on the non-missing values)\u001b[39;00m\n\u001b[0;32m    176\u001b[0m         \u001b[39m# Don't do this for comparisons, as that will handle complex numbers\u001b[39;00m\n\u001b[0;32m    177\u001b[0m         \u001b[39m#  incorrectly, see GH#32047\u001b[39;00m\n\u001b[1;32m--> 178\u001b[0m         result \u001b[39m=\u001b[39m _masked_arith_op(left, right, op)\n\u001b[0;32m    179\u001b[0m     \u001b[39melse\u001b[39;00m:\n\u001b[0;32m    180\u001b[0m         \u001b[39mraise\u001b[39;00m\n",
      "File \u001b[1;32mc:\\source\\pythonsource\\Lib\\site-packages\\pandas\\core\\ops\\array_ops.py:135\u001b[0m, in \u001b[0;36m_masked_arith_op\u001b[1;34m(x, y, op)\u001b[0m\n\u001b[0;32m    132\u001b[0m         mask \u001b[39m=\u001b[39m np\u001b[39m.\u001b[39mwhere(y \u001b[39m==\u001b[39m \u001b[39m1\u001b[39m, \u001b[39mFalse\u001b[39;00m, mask)\n\u001b[0;32m    134\u001b[0m     \u001b[39mif\u001b[39;00m mask\u001b[39m.\u001b[39many():\n\u001b[1;32m--> 135\u001b[0m         result[mask] \u001b[39m=\u001b[39m op(xrav[mask], y)\n\u001b[0;32m    137\u001b[0m np\u001b[39m.\u001b[39mputmask(result, \u001b[39m~\u001b[39mmask, np\u001b[39m.\u001b[39mnan)\n\u001b[0;32m    138\u001b[0m result \u001b[39m=\u001b[39m result\u001b[39m.\u001b[39mreshape(x\u001b[39m.\u001b[39mshape)  \u001b[39m# 2D compat\u001b[39;00m\n",
      "\u001b[1;31mTypeError\u001b[0m: unsupported operand type(s) for //: 'str' and 'int'"
     ]
    },
    {
     "data": {
      "image/png": "[encoded data removed]",
      "text/plain": [
       "<Figure size 1000x700 with 1 Axes>"
      ]
     },
     "metadata": {},
     "output_type": "display_data"
    }
   ],
   "source": [
    "plt.figure(figsize=(10,7))\n",
    "plt.barh(y=df_men.columns,width=-df_men.iloc[0] // 10000)\n",
    "plt.barh(y=df_women.columns,width=df_women.iloc[0] // 10000)\n",
    "plt.title(\"2023 6월 기준 대한민국 인구 피라미드\")\n",
    "plt.savefig(\"202306_인구피라미드.png\")\n",
    "plt.show()"
   ]
  },
  {
   "cell_type": "code",
   "execution_count": null,
   "metadata": {},
   "outputs": [],
   "source": []
  }
 ],
 "metadata": {
  "kernelspec": {
   "display_name": "pythonsource",
   "language": "python",
   "name": "python3"
  },
  "language_info": {
   "codemirror_mode": {
    "name": "ipython",
    "version": 3
   },
   "file_extension": ".py",
   "mimetype": "text/x-python",
   "name": "python",
   "nbconvert_exporter": "python",
   "pygments_lexer": "ipython3",
   "version": "3.11.4"
  },
  "orig_nbformat": 4
 },
 "nbformat": 4,
 "nbformat_minor": 2
}
