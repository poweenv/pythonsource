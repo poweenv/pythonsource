{
 "cells": [
  {
   "cell_type": "code",
   "execution_count": 1,
   "metadata": {},
   "outputs": [],
   "source": [
    "#라이브러리 로드\n",
    "from openpyxl import Workbook"
   ]
  },
  {
   "cell_type": "code",
   "execution_count": 2,
   "metadata": {},
   "outputs": [],
   "source": [
    "wb = Workbook() #워크북 객체 생성\n",
    "\n",
    "ws = wb.active  #액셀 워크시트 가져오기\n",
    "ws.title = \"test\"\n",
    "wb.save(\"sample1.xlsx\")\n",
    "wb.close()"
   ]
  },
  {
   "cell_type": "code",
   "execution_count": 9,
   "metadata": {},
   "outputs": [
    {
     "name": "stdout",
     "output_type": "stream",
     "text": [
      "['Sheet', 'MySheet', '급여명세']\n",
      "['Sheet', 'MySheet', '급여명세', 'Copied Sheet']\n"
     ]
    }
   ],
   "source": [
    "wb = Workbook()\n",
    "\n",
    "ws = wb.create_sheet()\n",
    "ws.title = \"MySheet\"\n",
    "ws.sheet_properties.tabColor=\"ff66ff\"\n",
    "\n",
    "ws2 = wb.create_sheet(\"급여명세\",2)\n",
    "\n",
    "# 특정 시트에 접근\n",
    "sheet1 = wb[\"MySheet\"]\n",
    "sheet1[\"A1\"] = \"Test\"\n",
    "\n",
    "\n",
    "# 생성된 모든 시트의 이름 출력\n",
    "print(wb.sheetnames)\n",
    "\n",
    "#sheet 복사\n",
    "target = wb.copy_worksheet(sheet1)\n",
    "target.title = \"Copied Sheet\"\n",
    "\n",
    "print(wb.sheetnames)\n",
    "\n",
    "wb.close()"
   ]
  },
  {
   "cell_type": "code",
   "execution_count": 7,
   "metadata": {},
   "outputs": [
    {
     "name": "stdout",
     "output_type": "stream",
     "text": [
      "<Cell 'Test'.A2>\n",
      "2\n",
      "1\n"
     ]
    }
   ],
   "source": [
    "from random import *\n",
    "\n",
    "wb = Workbook()\n",
    "ws = wb.active\n",
    "ws.title = \"Test\"\n",
    "\n",
    "# A1 셀에 1 이라는 값 입력\n",
    "ws[\"A1\"] = 1\n",
    "ws[\"A2\"] = 2\n",
    "ws[\"A3\"] = 3\n",
    "\n",
    "\n",
    "#b1 ~ b3 숫자 입력\n",
    "ws[\"B1\"]=4\n",
    "ws[\"B2\"]=5\n",
    "ws[\"B3\"]=6\n",
    "\n",
    "\n",
    "# 특정 셀 정보 출력\n",
    "print(ws[\"A2\"])\n",
    "print(ws[\"A2\"].value)\n",
    "\n",
    "#셀에 접근하는 두번째 방법\n",
    "# row = 1,2,3,...\n",
    "# coloum = A(1),B(2)...\n",
    "\n",
    "print(ws.cell(row=1,column=1).value) # ws[\"A1\"]\n",
    "\n",
    "#반복문을 사용해서 랜덤 숫자 채우기\n",
    "for x in range(1,11):\n",
    "    for y in range(1,11):\n",
    "        ws.cell(row=x, column=y,value=randint(0,100))\n",
    "\n",
    "\n",
    "wb.save(\"sample1.xlsx\")\n",
    "wb.close()"
   ]
  },
  {
   "cell_type": "code",
   "execution_count": 11,
   "metadata": {},
   "outputs": [
    {
     "name": "stdout",
     "output_type": "stream",
     "text": [
      "58 23 81 29 13 9 11 88 99 15 \n",
      "39 84 43 79 3 23 99 61 50 75 \n",
      "33 11 59 27 71 55 29 50 4 81 \n",
      "89 95 89 49 12 67 88 8 63 5 \n",
      "45 92 96 98 21 23 22 39 54 55 \n",
      "89 80 5 19 34 64 64 74 96 98 \n",
      "0 32 83 54 46 88 94 68 91 50 \n",
      "50 30 53 99 26 42 45 57 20 63 \n",
      "21 62 76 33 49 59 70 95 100 88 \n",
      "98 14 6 89 46 35 95 18 68 85 \n"
     ]
    }
   ],
   "source": [
    "from openpyxl import load_workbook\n",
    "\n",
    "wb=load_workbook(\"sample1.xlsx\")\n",
    "ws= wb.active\n",
    "\n",
    "#시트 안에 들어있는 데이터의 갯수를 정확하게 알고 있을 때\n",
    "# for x in range(1,11):\n",
    "#     for y in range(1,11):\n",
    "#         print(ws.cell(row=x,column=y).value,end=\" \")\n",
    "#     print()\n",
    "\n",
    "# max_row / max_column\n",
    "\n",
    "\n",
    "for x in range(1,ws.max_row+1):\n",
    "    for y in range(1,ws.max_column+1):\n",
    "        print(ws.cell(row=x,column=y).value,end=\" \")\n",
    "    print()\n",
    "\n",
    "wb.close()\n"
   ]
  },
  {
   "cell_type": "code",
   "execution_count": 8,
   "metadata": {},
   "outputs": [
    {
     "ename": "NameError",
     "evalue": "name 'randint' is not defined",
     "output_type": "error",
     "traceback": [
      "\u001b[1;31m---------------------------------------------------------------------------\u001b[0m",
      "\u001b[1;31mNameError\u001b[0m                                 Traceback (most recent call last)",
      "Cell \u001b[1;32mIn[8], line 11\u001b[0m\n\u001b[0;32m      9\u001b[0m ws\u001b[39m.\u001b[39mappend([\u001b[39m\"\u001b[39m\u001b[39m번호\u001b[39m\u001b[39m\"\u001b[39m,\u001b[39m\"\u001b[39m\u001b[39m영어\u001b[39m\u001b[39m\"\u001b[39m,\u001b[39m\"\u001b[39m\u001b[39m수확\u001b[39m\u001b[39m\"\u001b[39m])\n\u001b[0;32m     10\u001b[0m \u001b[39mfor\u001b[39;00m i \u001b[39min\u001b[39;00m \u001b[39mrange\u001b[39m(\u001b[39m1\u001b[39m,\u001b[39m11\u001b[39m):\n\u001b[1;32m---> 11\u001b[0m     ws\u001b[39m.\u001b[39mappend([i,randint(\u001b[39m0\u001b[39m,\u001b[39m100\u001b[39m),randint(\u001b[39m0\u001b[39m,\u001b[39m100\u001b[39m)]\n\u001b[0;32m     12\u001b[0m               \n\u001b[0;32m     13\u001b[0m \n\u001b[0;32m     14\u001b[0m \n\u001b[0;32m     15\u001b[0m )\n\u001b[0;32m     17\u001b[0m \u001b[39m#iter_rows(): 전체 rows를 가져오는 함수, iter_cols(): 전체 colors\u001b[39;00m\n\u001b[0;32m     19\u001b[0m wb\u001b[39m.\u001b[39msave(\u001b[39m\"\u001b[39m\u001b[39mrange.xlsx\u001b[39m\u001b[39m\"\u001b[39m)\n",
      "\u001b[1;31mNameError\u001b[0m: name 'randint' is not defined"
     ]
    }
   ],
   "source": [
    "from openpyxl import Workbook,load_workbook\n",
    "\n",
    "wb=Workbook()\n",
    "ws=wb.active\n",
    "\n",
    "#리스트 형태로 데이터 삽입\n",
    "#리스트 []: 아무거나 담을 수 있음\n",
    " \n",
    "ws.append([\"번호\",\"영어\",\"수확\"])\n",
    "for i in range(1,11):\n",
    "    ws.append([i,randint(0,100),randint(0,100)]\n",
    "              \n",
    "\n",
    "\n",
    ")\n",
    "\n",
    "#iter_rows(): 전체 rows를 가져오는 함수, iter_cols(): 전체 colors\n",
    "\n",
    "wb.save(\"range.xlsx\")\n",
    "wb.close()"
   ]
  },
  {
   "cell_type": "code",
   "execution_count": 14,
   "metadata": {},
   "outputs": [
    {
     "name": "stdout",
     "output_type": "stream",
     "text": [
      "6 번 학생의 영어 점수는 93 입니다\n",
      "9 번 학생의 영어 점수는 96 입니다\n"
     ]
    }
   ],
   "source": [
    "#range.xlsx 읽기\n",
    "wb = load_workbook(\"range.xlsx\")\n",
    "ws = wb.active\n",
    "\n",
    "for row in ws.iter_rows(min_row=2):\n",
    "    if int(row[1].value > 80):\n",
    "        print(row[0].value,\"번 학생의 영어 점수는\",row[1].value,\"입니다\")\n",
    "\n",
    "# 영어 과목명을 컴퓨터로 변경 후 새로운 엑셀 파일로 저장\n",
    "for row in ws.iter_rows(max_row=1):\n",
    "    for cell in row:\n",
    "        if cell.value == \"영어\":\n",
    "            cell.value = \"컴퓨터\"\n",
    "\n",
    "wb.save(\"range_modified.xlsx\")\n",
    "wb.close()"
   ]
  },
  {
   "cell_type": "code",
   "execution_count": 15,
   "metadata": {},
   "outputs": [],
   "source": [
    "# 행, 열 삽입\n",
    "wb = load_workbook(\"range.xlsx\")\n",
    "ws = wb.active\n",
    "\n",
    "ws.insert_rows(8,5)\n",
    "\n",
    "ws.insert_cols(2,3)\n",
    "\n",
    "\n",
    "wb.save(\"range_modified.xlsx\")\n",
    "wb.close()"
   ]
  },
  {
   "cell_type": "code",
   "execution_count": 17,
   "metadata": {},
   "outputs": [
    {
     "ename": "AttributeError",
     "evalue": "'Worksheet' object has no attribute 'delelte_cols'",
     "output_type": "error",
     "traceback": [
      "\u001b[1;31m---------------------------------------------------------------------------\u001b[0m",
      "\u001b[1;31mAttributeError\u001b[0m                            Traceback (most recent call last)",
      "Cell \u001b[1;32mIn[17], line 6\u001b[0m\n\u001b[0;32m      3\u001b[0m ws \u001b[39m=\u001b[39m wb\u001b[39m.\u001b[39mactive\n\u001b[0;32m      5\u001b[0m \u001b[39m#delete\u001b[39;00m\n\u001b[1;32m----> 6\u001b[0m ws\u001b[39m.\u001b[39;49mdelelte_cols(\u001b[39m2\u001b[39m,\u001b[39m1\u001b[39m)\n\u001b[0;32m      9\u001b[0m wb\u001b[39m.\u001b[39msave(\u001b[39m\"\u001b[39m\u001b[39mrange_insert.xlsx\u001b[39m\u001b[39m\"\u001b[39m)\n\u001b[0;32m     10\u001b[0m wb\u001b[39m.\u001b[39mclose()\n",
      "\u001b[1;31mAttributeError\u001b[0m: 'Worksheet' object has no attribute 'delelte_cols'"
     ]
    }
   ],
   "source": [
    "# 행, 열 삽입\n",
    "wb = load_workbook(\"range.xlsx\")\n",
    "ws = wb.active\n",
    "\n",
    "#delete\n",
    "ws.delelte_cols(2,1)\n",
    "\n",
    "\n",
    "wb.save(\"range_insert.xlsx\")\n",
    "wb.close()"
   ]
  },
  {
   "cell_type": "code",
   "execution_count": 21,
   "metadata": {},
   "outputs": [],
   "source": [
    "# 챠트 작성\n",
    "\n",
    "from openpyxl.chart import BarChart,Reference\n",
    "\n",
    "wb=load_workbook(\"range.xlsx\")\n",
    "ws = wb.active\n",
    "\n",
    "# 범위 지정\n",
    "bar_value = Reference(ws, min_row=1, max_row=11,min_col=2,max_col=3)\n",
    "# 차트 종류 지정\n",
    "bar_chart = BarChart()\n",
    "# 차트 데이터 추가\n",
    "bar_chart.add_data(bar_value,titles_from_data=True)\n",
    "\n",
    "ws.add_chart(bar_chart,\"E1\")\n",
    "\n",
    "wb.save(\"range_chart.xlsx\")\n",
    "wb.close()"
   ]
  },
  {
   "cell_type": "code",
   "execution_count": 22,
   "metadata": {},
   "outputs": [],
   "source": [
    "# 챠트 작성\n",
    "\n",
    "from openpyxl.chart import LineChart,Reference\n",
    "\n",
    "wb=load_workbook(\"range.xlsx\")\n",
    "ws = wb.active\n",
    "\n",
    "# 범위 지정\n",
    "line_value = Reference(ws, min_row=1, max_row=11,min_col=2,max_col=3)\n",
    "# 차트 종류 지정\n",
    "line_chart = LineChart()\n",
    "# 차트 데이터 추가\n",
    "line_chart.add_data(bar_value,titles_from_data=True)\n",
    "\n",
    "\n",
    "line_chart.title =\"성적표\"\n",
    "line_chart.style=20\n",
    "line_chart.y_axis.title=\"점수\"\n",
    "line_chart.x_axis.title=\"번호\"\n",
    "\n",
    "ws.add_chart(line_chart,\"E1\")\n",
    "\n",
    "wb.save(\"range_chart.xlsx\")\n",
    "wb.close()"
   ]
  },
  {
   "cell_type": "code",
   "execution_count": 10,
   "metadata": {},
   "outputs": [],
   "source": [
    "# 셀 서식(너비, 높이, 폰트, 테두리....)\n",
    "\n",
    "from openpyxl import load_workbook\n",
    "from openpyxl.styles import Font,Border, Alignment,PatternFill\n",
    "from openpyxl.styles.borders import Side\n",
    "\n",
    "wb = load_workbook(\"range.xlsx\")\n",
    "ws = wb.active\n",
    "\n",
    "# 셀 너비 조절\n",
    "ws.column_dimensions[\"A\"].width = 5\n",
    "\n",
    "# 행 높이 조절\n",
    "ws.row_dimensions[1].height = 50\n",
    "\n",
    "# 특정 셀에 서로 다른 폰트 스타일 적용\n",
    "a1 = ws[\"A1\"]\n",
    "b1 = ws[\"B1\"]\n",
    "c1 = ws[\"C1\"]\n",
    "\n",
    "a1.font = Font(color=\"ff0011\",italic=True,bold=True)\n",
    "b1.font = Font(color=\"cc33ff\",name=\"Arial\",strike=True)\n",
    "c1.font = Font(color=\"cd33fc\",size=20,underline=\"single\")\n",
    "\n",
    "# 테두리\n",
    "thin_border = Border(left=Side(style=\"thin\"),right=Side(style=\"dashDot\"),\n",
    "                     top=Side(style=\"dashDotDot\"),bottom=Side(style=\"double\"))\n",
    "\n",
    "a1.border = thin_border\n",
    "c1.border = thin_border\n",
    "\n",
    "# 셀 정렬 및 배경색\n",
    "for row in ws.rows:\n",
    "    for cell in row:\n",
    "\n",
    "        cell.alignment = Alignment(horizontal=\"center\",vertical=\"center\")\n",
    "\n",
    "        if cell.column == 1:\n",
    "            continue\n",
    "        \n",
    "        # isinstance(값, 타입)\n",
    "        if isinstance(cell.value, int) and cell.value > 80:\n",
    "            cell.fill = PatternFill(fgColor=\"112233\",fill_type=\"solid\")\n",
    "            cell.font = Font(color=\"223355\")\n",
    "wb.save(\"range_style.xlsx\")\n",
    "wb.close()"
   ]
  },
  {
   "cell_type": "code",
   "execution_count": 12,
   "metadata": {},
   "outputs": [],
   "source": [
    "# 함수 삽입\n",
    "from datetime import datetime\n",
    "from openpyxl import Workbook\n",
    "\n",
    "wb = Workbook()\n",
    "ws = wb.active\n",
    "\n",
    "#날짜\n",
    "ws[\"A1\"] = datetime.today()\n",
    "\n",
    "#합계 구하기\n",
    "ws[\"A2\"] = \"=sum(1,2,3)\"\n",
    "# 평균 구하기\n",
    "ws[\"A3\"] = \"=average(1,2,3)\"\n",
    "\n",
    "# 데이터 삽입 후 엑셀 함수 적용\n",
    "ws[\"A4\"] = 10\n",
    "ws[\"A5\"] = 30\n",
    "ws[\"A6\"] = \"=sum(A4:A5)\"\n",
    "\n",
    "wb.save(\"sample_formula.xlsx\")\n",
    "wb.close()"
   ]
  },
  {
   "cell_type": "code",
   "execution_count": 3,
   "metadata": {},
   "outputs": [
    {
     "name": "stdout",
     "output_type": "stream",
     "text": [
      "2023-07-05 18:01:35.449000\n",
      "6\n",
      "2\n",
      "10\n",
      "30\n",
      "40\n"
     ]
    }
   ],
   "source": [
    "from openpyxl import load_workbook\n",
    "\n",
    "#wb = load_workbook(\"sample_formula.xlsx\")\n",
    "wb = load_workbook(\"sample_formula.xlsx\",data_only=True)\n",
    "ws =wb.active\n",
    "\n",
    "# ws.values : 셀 안에 들어 있는 모든 값 가져오기\n",
    "for row in ws.values:\n",
    "    for cell in row:\n",
    "        print(cell)"
   ]
  },
  {
   "cell_type": "code",
   "execution_count": 4,
   "metadata": {},
   "outputs": [],
   "source": [
    "# 이미지 삽입\n",
    "from openpyxl import Workbook\n",
    "from openpyxl.drawing.image import Image\n",
    "\n",
    "wb = Workbook()\n",
    "ws = wb.active\n",
    "\n",
    "img = Image(\"OIP.jpg\")\n",
    "\n",
    "ws.add_image(img,\"C3\")\n",
    "\n",
    "wb.save(\"sample_image.xlsx\")\n",
    "wb.close()"
   ]
  },
  {
   "cell_type": "code",
   "execution_count": 8,
   "metadata": {},
   "outputs": [],
   "source": [
    "# 솔컴퓨터 학원의 교수님 이라고 할때 \n",
    "# 기마고사 성적을 작성하려고 한다.\n",
    "# 가르치는 과목의 점수 비중은 다음과 같다 \n",
    "# 출석 10, 퀴즈1 10, 퀴즈2 10, 중간고사20, 기말고사 30, 프로젝트 20\n",
    "from openpyxl import Workbook\n",
    "wb= Workbook()\n",
    "ws = wb.active\n",
    "ws.append([\"학번\",\"출석\",\"퀴즈1\",\"퀴즈2\",\"중간고사\",\"기말고사\",\"프로젝트\"])\n",
    "\n",
    "\n",
    "ws.datas=[\n",
    "    [1,2,3,4,3,16,7],\n",
    "    [2,3,3,9,12,16,7],\n",
    "    [3,4,3,8,23,2,7],\n",
    "    [4,5,3,7,4,13,7],\n",
    "    [5,6,3,6,15,14,7],\n",
    "    [6,7,3,5,5,16,7],\n",
    "    [7,1,3,4,15,16,7],\n",
    "    [8,2,3,3,25,6,17],\n",
    "    [9,3,3,2,15,6,17],\n",
    "    [10,4,1,14,5,6,7]\n",
    "\n",
    "]\n",
    "# 학생들의 기본 데이터\n",
    "# 학번, 출석, 퀴즈1, 퀴즈2, 중간고사, 기말고사 , 프로젝트 \n",
    "for row in datas:\n",
    "    ws.append(row)\n",
    "\n",
    "# 마지막 수업을 마치고 이번 학기 학생드르이 최종성적을 검토하는 과정에서\n",
    "# 퀴즈2 문제에 오류를 발견하여 모두 만전 처리를 하기로 하였다\n",
    "# 현째까지 작성된 최종 성적 데이터를 기준으로 아래와 같이 수정하기\n",
    "# 퀴즈2 점수를 10으로 수정\n",
    "# H열에 총점(sum 사용), I열에 성적 정보 추가\n",
    "# 총점 90이상 A, 80이상 B, 70이상 C, 나머지 D\n",
    "# 춧거이 5미만인 학생은 총점과 관계없이 F\n",
    "wb.save(\"grade.xlsx\")\n",
    "wb.close()"
   ]
  },
  {
   "cell_type": "code",
   "execution_count": null,
   "metadata": {},
   "outputs": [],
   "source": [
    "for idx,col in enumerate(ws[\"D\"]):\n",
    "    if idx ==0:\n",
    "        continue\n",
    "    \n",
    "    col.value = 10\n",
    "\n",
    "ws[\"H1\"] = \"총점\"\n",
    "ws[\"I1\"] = \"성적\"\n",
    "\n",
    "for idx,score in enumerate(datas, start=2):\n",
    "    ws.cell(row=idx,column=8).value =\"=sum(B{0}:G{0})\".format(idx)\n",
    "    \n",
    "    #등급 계산\n",
    "    total = sum(score[1:1])-score[3] +10\n",
    "\n",
    "    grade = None\n",
    "    if total >= 90:\n",
    "        grade = \"A\"\n",
    "    elif total >= 80:\n",
    "        grade = \"B\"\n",
    "    elif total >=70:\n",
    "        grade = \"C\"\n",
    "    else:\n",
    "        grade = \"D\"\n",
    "    \n",
    "    if score[1] < 5:\n",
    "        grade = \"F\"\n",
    "\n",
    "    ws.cell(row=idx,column=9).value = grade\n",
    "\n",
    "wb.save(\"grade.xlsx\")\n",
    "wb.close()"
   ]
  }
 ],
 "metadata": {
  "kernelspec": {
   "display_name": "pythonsource",
   "language": "python",
   "name": "python3"
  },
  "language_info": {
   "codemirror_mode": {
    "name": "ipython",
    "version": 3
   },
   "file_extension": ".py",
   "mimetype": "text/x-python",
   "name": "python",
   "nbconvert_exporter": "python",
   "pygments_lexer": "ipython3",
   "version": "3.11.4"
  },
  "orig_nbformat": 4
 },
 "nbformat": 4,
 "nbformat_minor": 2
}
