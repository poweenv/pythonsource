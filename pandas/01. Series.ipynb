{
 "cells": [
  {
   "cell_type": "markdown",
   "id": "51dba0b9",
   "metadata": {},
   "source": [
    "### [참고] <a href=\"https://pandas.pydata.org/Pandas_Cheat_Sheet.pdf\">Pandas Cheat Sheet</a>\n",
    "\n",
    "## 데이터 타입"
   ]
  },
  {
   "cell_type": "markdown",
   "id": "068e59f7",
   "metadata": {},
   "source": [
    "### 1.Series(https://pandas.pydata.org/docs/reference/api/pandas.Series.html)\n",
    "\n",
    "<img src=\"https://bites-data.s3.us-east-2.amazonaws.com/series_spreadsheet.png\" width=\"300\" height=\"200\">"
   ]
  },
  {
   "cell_type": "code",
   "execution_count": null,
   "id": "d57f56be",
   "metadata": {},
   "outputs": [],
   "source": []
  },
  {
   "cell_type": "markdown",
   "id": "8b356858",
   "metadata": {},
   "source": [
    "### 생성"
   ]
  },
  {
   "cell_type": "markdown",
   "id": "cea5a132",
   "metadata": {},
   "source": [
    "#### 1) 리스트"
   ]
  },
  {
   "cell_type": "code",
   "execution_count": 1,
   "id": "4bdf91ab",
   "metadata": {},
   "outputs": [],
   "source": [
    "list1 = [70,80,90]"
   ]
  },
  {
   "cell_type": "code",
   "execution_count": 2,
   "id": "91ce7eb2",
   "metadata": {},
   "outputs": [
    {
     "data": {
      "text/plain": [
       "0    70\n",
       "1    80\n",
       "2    90\n",
       "dtype: int64"
      ]
     },
     "execution_count": 2,
     "metadata": {},
     "output_type": "execute_result"
    }
   ],
   "source": [
    "import pandas as pd\n",
    "\n",
    "ser = pd.Series(list1)\n",
    "ser"
   ]
  },
  {
   "cell_type": "code",
   "execution_count": 6,
   "id": "d73252eb",
   "metadata": {},
   "outputs": [
    {
     "data": {
      "text/plain": [
       "국어    70\n",
       "영어    80\n",
       "수학    90\n",
       "dtype: int64"
      ]
     },
     "execution_count": 6,
     "metadata": {},
     "output_type": "execute_result"
    }
   ],
   "source": [
    "ser1 = pd.Series(list1,index=[\"국어\",\"영어\",\"수학\"])\n",
    "ser1"
   ]
  },
  {
   "cell_type": "markdown",
   "id": "2476fcbd",
   "metadata": {},
   "source": [
    "#### 2) 딕셔너리"
   ]
  },
  {
   "cell_type": "code",
   "execution_count": 7,
   "id": "b2ac15a0",
   "metadata": {},
   "outputs": [
    {
     "data": {
      "text/plain": [
       "a    1\n",
       "b    2\n",
       "c    3\n",
       "dtype: int64"
      ]
     },
     "execution_count": 7,
     "metadata": {},
     "output_type": "execute_result"
    }
   ],
   "source": [
    "ser2 = pd.Series({\"a\":1,\"b\":2,\"c\":3})\n",
    "ser2"
   ]
  },
  {
   "cell_type": "markdown",
   "id": "01f9d292",
   "metadata": {},
   "source": [
    "#### Read"
   ]
  },
  {
   "cell_type": "code",
   "execution_count": 8,
   "id": "de35d1ee",
   "metadata": {},
   "outputs": [
    {
     "data": {
      "text/plain": [
       "Index(['국어', '영어', '수학'], dtype='object')"
      ]
     },
     "execution_count": 8,
     "metadata": {},
     "output_type": "execute_result"
    }
   ],
   "source": [
    "# index 조회\n",
    "ser1.index"
   ]
  },
  {
   "cell_type": "code",
   "execution_count": 9,
   "id": "973dba0d",
   "metadata": {},
   "outputs": [
    {
     "data": {
      "text/plain": [
       "array([70, 80, 90], dtype=int64)"
      ]
     },
     "execution_count": 9,
     "metadata": {},
     "output_type": "execute_result"
    }
   ],
   "source": [
    "# values 조회\n",
    "ser1.values"
   ]
  },
  {
   "cell_type": "code",
   "execution_count": 11,
   "id": "d5a05e92",
   "metadata": {},
   "outputs": [
    {
     "data": {
      "text/plain": [
       "국어    70\n",
       "영어    80\n",
       "dtype: int64"
      ]
     },
     "execution_count": 11,
     "metadata": {},
     "output_type": "execute_result"
    }
   ],
   "source": [
    "# values 에서 상위 5개만 조회 : head(), 개수지정 가능 head(3)\n",
    "ser1.head(2)"
   ]
  },
  {
   "cell_type": "code",
   "execution_count": 12,
   "id": "726a7f9d",
   "metadata": {},
   "outputs": [
    {
     "data": {
      "text/plain": [
       "국어    70\n",
       "영어    80\n",
       "수학    90\n",
       "dtype: int64"
      ]
     },
     "execution_count": 12,
     "metadata": {},
     "output_type": "execute_result"
    }
   ],
   "source": [
    "# values 에서 하위 5개만 조회 : tail(), 개수지정 가능 tail(3)\n",
    "ser1.tail()"
   ]
  },
  {
   "cell_type": "code",
   "execution_count": 13,
   "id": "bc04420f",
   "metadata": {},
   "outputs": [
    {
     "data": {
      "text/plain": [
       "(3,)"
      ]
     },
     "execution_count": 13,
     "metadata": {},
     "output_type": "execute_result"
    }
   ],
   "source": [
    "# shape: 데이터 구조 (행, 열)\n",
    "ser1.shape"
   ]
  },
  {
   "cell_type": "markdown",
   "id": "bf265439",
   "metadata": {},
   "source": [
    "#### Update"
   ]
  },
  {
   "cell_type": "code",
   "execution_count": 14,
   "id": "b943557b",
   "metadata": {},
   "outputs": [
    {
     "data": {
      "text/plain": [
       "미술    70\n",
       "음악    80\n",
       "체육    90\n",
       "dtype: int64"
      ]
     },
     "execution_count": 14,
     "metadata": {},
     "output_type": "execute_result"
    }
   ],
   "source": [
    "# index 변경\n",
    "ser1.index = [\"미술\",\"음악\",\"체육\"]\n",
    "ser1"
   ]
  },
  {
   "cell_type": "code",
   "execution_count": 17,
   "id": "de4a7cd5",
   "metadata": {},
   "outputs": [
    {
     "data": {
      "text/plain": [
       "미술    70.0\n",
       "음악    80.0\n",
       "체육    90.0\n",
       "dtype: float64"
      ]
     },
     "execution_count": 17,
     "metadata": {},
     "output_type": "execute_result"
    }
   ],
   "source": [
    "# 데이터 타입 변경 : astype(\"변경할타입\") => 원본 타입 변경안됨\n",
    "ser3=ser1.astype(\"float64\")\n",
    "ser3"
   ]
  },
  {
   "cell_type": "code",
   "execution_count": 18,
   "id": "e564ec0a",
   "metadata": {},
   "outputs": [
    {
     "data": {
      "text/plain": [
       "미술    70\n",
       "음악    85\n",
       "체육    90\n",
       "dtype: int64"
      ]
     },
     "execution_count": 18,
     "metadata": {},
     "output_type": "execute_result"
    }
   ],
   "source": [
    "# 특정 값 변경\n",
    "\n",
    "ser1[\"음악\"] =85\n",
    "ser1"
   ]
  },
  {
   "cell_type": "code",
   "execution_count": 19,
   "id": "c8c92f45",
   "metadata": {},
   "outputs": [
    {
     "data": {
      "text/plain": [
       "0    1.1\n",
       "1    2.2\n",
       "2    3.3\n",
       "dtype: object"
      ]
     },
     "execution_count": 19,
     "metadata": {},
     "output_type": "execute_result"
    }
   ],
   "source": [
    "ser4 = pd.Series([\"1.1\",\"2.2\",\"3.3\"])\n",
    "ser4"
   ]
  },
  {
   "cell_type": "code",
   "execution_count": 20,
   "id": "0fadd873",
   "metadata": {},
   "outputs": [
    {
     "data": {
      "text/plain": [
       "0    1.1\n",
       "1    2.2\n",
       "2    3.3\n",
       "dtype: float64"
      ]
     },
     "execution_count": 20,
     "metadata": {},
     "output_type": "execute_result"
    }
   ],
   "source": [
    "ser4 = ser4.astype(\"float\")\n",
    "ser4"
   ]
  },
  {
   "cell_type": "code",
   "execution_count": 21,
   "id": "7d9950d4",
   "metadata": {},
   "outputs": [
    {
     "data": {
      "text/plain": [
       "0    test\n",
       "1     2.2\n",
       "2     3.3\n",
       "dtype: object"
      ]
     },
     "execution_count": 21,
     "metadata": {},
     "output_type": "execute_result"
    }
   ],
   "source": [
    "ser5 = pd.Series([\"test\",\"2.2\",\"3.3\"])\n",
    "ser5"
   ]
  },
  {
   "cell_type": "code",
   "execution_count": 24,
   "id": "cd46212b",
   "metadata": {},
   "outputs": [
    {
     "data": {
      "text/plain": [
       "미술    70\n",
       "음악    85\n",
       "체육    90\n",
       "Name: 점수, dtype: int64"
      ]
     },
     "execution_count": 24,
     "metadata": {},
     "output_type": "execute_result"
    }
   ],
   "source": [
    "ser1=ser1.rename(\"점수\")\n",
    "ser1"
   ]
  },
  {
   "cell_type": "markdown",
   "id": "407503f6",
   "metadata": {},
   "source": [
    "### 삭제"
   ]
  },
  {
   "cell_type": "code",
   "execution_count": null,
   "id": "10487a98",
   "metadata": {},
   "outputs": [],
   "source": [
    "del ser1[\"체육\"]\n"
   ]
  },
  {
   "cell_type": "code",
   "execution_count": 27,
   "id": "9ba36d17",
   "metadata": {},
   "outputs": [
    {
     "data": {
      "text/plain": [
       "미술    70\n",
       "음악    85\n",
       "Name: 점수, dtype: int64"
      ]
     },
     "execution_count": 27,
     "metadata": {},
     "output_type": "execute_result"
    }
   ],
   "source": [
    "ser1"
   ]
  },
  {
   "cell_type": "markdown",
   "id": "8c2630c2",
   "metadata": {},
   "source": [
    "#### 3) ndarray"
   ]
  },
  {
   "cell_type": "code",
   "execution_count": 29,
   "id": "66738ee9",
   "metadata": {},
   "outputs": [
    {
     "data": {
      "text/plain": [
       "a    0.521272\n",
       "b    0.285795\n",
       "c   -0.447733\n",
       "d   -1.714658\n",
       "dtype: float64"
      ]
     },
     "execution_count": 29,
     "metadata": {},
     "output_type": "execute_result"
    }
   ],
   "source": [
    "# numpy 데이터 타입 : ndarray\n",
    "\n",
    "import numpy as np\n",
    "\n",
    "ser6 = pd.Series(np.random.randn(4),index=list(\"abcd\"))\n",
    "ser6"
   ]
  },
  {
   "cell_type": "markdown",
   "id": "63a02c91",
   "metadata": {},
   "source": [
    "#### 4) DataFrame 이용"
   ]
  },
  {
   "cell_type": "code",
   "execution_count": 30,
   "id": "339c0c56",
   "metadata": {},
   "outputs": [
    {
     "data": {
      "text/html": [
       "<div>\n",
       "<style scoped>\n",
       "    .dataframe tbody tr th:only-of-type {\n",
       "        vertical-align: middle;\n",
       "    }\n",
       "\n",
       "    .dataframe tbody tr th {\n",
       "        vertical-align: top;\n",
       "    }\n",
       "\n",
       "    .dataframe thead th {\n",
       "        text-align: right;\n",
       "    }\n",
       "</style>\n",
       "<table border=\"1\" class=\"dataframe\">\n",
       "  <thead>\n",
       "    <tr style=\"text-align: right;\">\n",
       "      <th></th>\n",
       "      <th>a</th>\n",
       "      <th>b</th>\n",
       "    </tr>\n",
       "  </thead>\n",
       "  <tbody>\n",
       "    <tr>\n",
       "      <th>0</th>\n",
       "      <td>1</td>\n",
       "      <td>5</td>\n",
       "    </tr>\n",
       "    <tr>\n",
       "      <th>1</th>\n",
       "      <td>2</td>\n",
       "      <td>6</td>\n",
       "    </tr>\n",
       "    <tr>\n",
       "      <th>2</th>\n",
       "      <td>3</td>\n",
       "      <td>4</td>\n",
       "    </tr>\n",
       "    <tr>\n",
       "      <th>3</th>\n",
       "      <td>4</td>\n",
       "      <td>7</td>\n",
       "    </tr>\n",
       "  </tbody>\n",
       "</table>\n",
       "</div>"
      ],
      "text/plain": [
       "   a  b\n",
       "0  1  5\n",
       "1  2  6\n",
       "2  3  4\n",
       "3  4  7"
      ]
     },
     "execution_count": 30,
     "metadata": {},
     "output_type": "execute_result"
    }
   ],
   "source": [
    "df = pd.DataFrame({\"a\":[1,2,3,4],\"b\":[5,6,4,7]})\n",
    "df"
   ]
  },
  {
   "cell_type": "code",
   "execution_count": 31,
   "id": "9680f018",
   "metadata": {},
   "outputs": [
    {
     "data": {
      "text/plain": [
       "0    1\n",
       "1    2\n",
       "2    3\n",
       "3    4\n",
       "Name: a, dtype: int64"
      ]
     },
     "execution_count": 31,
     "metadata": {},
     "output_type": "execute_result"
    }
   ],
   "source": [
    "ser6 =pd.Series(df['a'])\n",
    "ser6"
   ]
  }
 ],
 "metadata": {
  "kernelspec": {
   "display_name": "Python 3 (ipykernel)",
   "language": "python",
   "name": "python3"
  },
  "language_info": {
   "codemirror_mode": {
    "name": "ipython",
    "version": 3
   },
   "file_extension": ".py",
   "mimetype": "text/x-python",
   "name": "python",
   "nbconvert_exporter": "python",
   "pygments_lexer": "ipython3",
   "version": "3.11.4"
  }
 },
 "nbformat": 4,
 "nbformat_minor": 5
}
