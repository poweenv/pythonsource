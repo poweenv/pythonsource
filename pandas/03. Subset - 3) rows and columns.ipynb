{
 "cells": [
  {
   "cell_type": "markdown",
   "id": "57262e70",
   "metadata": {},
   "source": [
    "### [참고] <a href=\"https://pandas.pydata.org/Pandas_Cheat_Sheet.pdf\">Pandas Cheat Sheet</a>"
   ]
  },
  {
   "cell_type": "code",
   "execution_count": null,
   "id": "3d2cb5c5",
   "metadata": {},
   "outputs": [],
   "source": [
    "%%html\n",
    "<style>\n",
    "table {\n",
    "    width:400px;\n",
    "    float:left}\n",
    "</style>"
   ]
  },
  {
   "cell_type": "markdown",
   "id": "bfe12003",
   "metadata": {},
   "source": [
    "### 인덱싱 적용 방법\n",
    "\n",
    "|적용방법|구문|결과타입|\n",
    "|:---|:---:|:---:|\n",
    "|열선택|df[col]|Series|\n",
    "|라벨로 행 선택|df.loc[label]|Series|\n",
    "|정수 위치로 행 선택|df.iloc[loc]|Series|\n",
    "|행 슬라이스|df[5:10]|DataFrame|\n",
    "|불리언 벡터로 행 선택|df[bool_vec]|DataFrame|"
   ]
  },
  {
   "cell_type": "code",
   "execution_count": null,
   "id": "5a0419a1",
   "metadata": {},
   "outputs": [],
   "source": []
  },
  {
   "cell_type": "code",
   "execution_count": null,
   "id": "f1080486",
   "metadata": {},
   "outputs": [],
   "source": []
  },
  {
   "cell_type": "code",
   "execution_count": null,
   "id": "f21f283f",
   "metadata": {},
   "outputs": [],
   "source": []
  },
  {
   "cell_type": "markdown",
   "id": "00669b79",
   "metadata": {},
   "source": [
    "### rows, columns 기준\n",
    "\n",
    "#### loc[]\n",
    "- 5 또는 a 와 같은 단일 라벨\n",
    "- ['a','b','c']와 같은 리스트나 라벨의 배열\n",
    "- a:f 와 같이 라벨이 있는 처음과 끝의 범위를 포함하는 슬라이스 객체\n",
    "- [True, False, True]와 같이 슬라이싱할 축과 같은 길이의 불리언 배열\n",
    "- 호출하는 시리즈나 데이터 프레임을 인수로 가지는 호출 함수\n",
    "\n",
    "#### iloc[]\n",
    "- 정수\n",
    "- [4,3,0] 과 같은 리스트나 정수들의 배열\n",
    "- 1:7 과 같은 정숫값을 가지는 슬라이스 객체\n",
    "- 불리언 배열\n",
    "- 호출하는 시리즈나 데이터프레임을 인수로 가지는 호출 함수"
   ]
  },
  {
   "cell_type": "code",
   "execution_count": null,
   "id": "4507ea8b",
   "metadata": {},
   "outputs": [],
   "source": []
  },
  {
   "cell_type": "code",
   "execution_count": null,
   "id": "33051c31",
   "metadata": {},
   "outputs": [],
   "source": []
  },
  {
   "cell_type": "code",
   "execution_count": null,
   "id": "d47cf22a",
   "metadata": {},
   "outputs": [],
   "source": []
  },
  {
   "cell_type": "code",
   "execution_count": null,
   "id": "59e53946",
   "metadata": {},
   "outputs": [],
   "source": []
  },
  {
   "cell_type": "code",
   "execution_count": null,
   "id": "4fcd9ff7",
   "metadata": {},
   "outputs": [],
   "source": []
  },
  {
   "cell_type": "code",
   "execution_count": null,
   "id": "d2c6ce83",
   "metadata": {},
   "outputs": [],
   "source": []
  },
  {
   "cell_type": "markdown",
   "id": "1aa5f3c8",
   "metadata": {},
   "source": [
    "><b>df.iloc[ ] : 행, 열 모두 position 값을 이용(integer 값)</b>"
   ]
  },
  {
   "cell_type": "code",
   "execution_count": null,
   "id": "27a7f3a6",
   "metadata": {},
   "outputs": [],
   "source": []
  },
  {
   "cell_type": "code",
   "execution_count": null,
   "id": "7a62fd51",
   "metadata": {},
   "outputs": [],
   "source": []
  },
  {
   "cell_type": "code",
   "execution_count": null,
   "id": "c595f86a",
   "metadata": {},
   "outputs": [],
   "source": []
  },
  {
   "cell_type": "code",
   "execution_count": null,
   "id": "d72f0a49",
   "metadata": {},
   "outputs": [],
   "source": []
  },
  {
   "cell_type": "markdown",
   "id": "7549401b",
   "metadata": {},
   "source": [
    "><b>df.loc[ ] : 행, 열의 label 값을 이용하거나, boolean 이용 / 마지막 값 포함</b>"
   ]
  },
  {
   "cell_type": "code",
   "execution_count": null,
   "id": "538cd626",
   "metadata": {},
   "outputs": [],
   "source": []
  },
  {
   "cell_type": "code",
   "execution_count": null,
   "id": "bf2ed16c",
   "metadata": {},
   "outputs": [],
   "source": []
  },
  {
   "cell_type": "code",
   "execution_count": null,
   "id": "75b947b6",
   "metadata": {},
   "outputs": [],
   "source": []
  },
  {
   "cell_type": "code",
   "execution_count": null,
   "id": "9399937a",
   "metadata": {},
   "outputs": [],
   "source": []
  },
  {
   "cell_type": "code",
   "execution_count": null,
   "id": "d73657a8",
   "metadata": {},
   "outputs": [],
   "source": []
  },
  {
   "cell_type": "code",
   "execution_count": null,
   "id": "62f2e10e",
   "metadata": {},
   "outputs": [],
   "source": []
  },
  {
   "cell_type": "code",
   "execution_count": null,
   "id": "6f5bad30",
   "metadata": {},
   "outputs": [],
   "source": []
  },
  {
   "cell_type": "code",
   "execution_count": null,
   "id": "f1c23c87",
   "metadata": {},
   "outputs": [],
   "source": []
  },
  {
   "cell_type": "markdown",
   "id": "cb0a129d",
   "metadata": {},
   "source": [
    "> **total 연습**"
   ]
  },
  {
   "cell_type": "code",
   "execution_count": null,
   "id": "9d1e48c9",
   "metadata": {},
   "outputs": [],
   "source": []
  },
  {
   "cell_type": "code",
   "execution_count": null,
   "id": "554947ff",
   "metadata": {},
   "outputs": [],
   "source": []
  },
  {
   "cell_type": "code",
   "execution_count": null,
   "id": "1a468dcf",
   "metadata": {},
   "outputs": [],
   "source": []
  },
  {
   "cell_type": "code",
   "execution_count": null,
   "id": "7f9c1846",
   "metadata": {},
   "outputs": [],
   "source": []
  },
  {
   "cell_type": "code",
   "execution_count": null,
   "id": "773b2e9b",
   "metadata": {},
   "outputs": [],
   "source": []
  },
  {
   "cell_type": "code",
   "execution_count": null,
   "id": "3338aa60",
   "metadata": {},
   "outputs": [],
   "source": []
  },
  {
   "cell_type": "code",
   "execution_count": null,
   "id": "3aa88e80",
   "metadata": {},
   "outputs": [],
   "source": []
  },
  {
   "cell_type": "markdown",
   "id": "86bf89e9",
   "metadata": {},
   "source": [
    "#### 3) filter(items=None, like=None, regex=None, axis=None)\n",
    "```\n",
    "행 또는 열의 부분 집합 지정\n",
    "```"
   ]
  },
  {
   "cell_type": "code",
   "execution_count": null,
   "id": "9a0c09b2",
   "metadata": {},
   "outputs": [],
   "source": []
  },
  {
   "cell_type": "code",
   "execution_count": null,
   "id": "7dcdb014",
   "metadata": {},
   "outputs": [],
   "source": []
  },
  {
   "cell_type": "code",
   "execution_count": null,
   "id": "7abce78f",
   "metadata": {},
   "outputs": [],
   "source": []
  },
  {
   "cell_type": "code",
   "execution_count": null,
   "id": "013a6d43",
   "metadata": {},
   "outputs": [],
   "source": []
  },
  {
   "cell_type": "code",
   "execution_count": null,
   "id": "b56acea3",
   "metadata": {},
   "outputs": [],
   "source": []
  },
  {
   "cell_type": "code",
   "execution_count": null,
   "id": "d1afdb82",
   "metadata": {
    "scrolled": true
   },
   "outputs": [],
   "source": []
  },
  {
   "cell_type": "code",
   "execution_count": null,
   "id": "9f4f008b",
   "metadata": {},
   "outputs": [],
   "source": []
  },
  {
   "cell_type": "code",
   "execution_count": null,
   "id": "d1c12b0f",
   "metadata": {},
   "outputs": [],
   "source": []
  },
  {
   "cell_type": "code",
   "execution_count": null,
   "id": "8b49ac36",
   "metadata": {},
   "outputs": [],
   "source": []
  },
  {
   "cell_type": "code",
   "execution_count": null,
   "id": "792b6941",
   "metadata": {},
   "outputs": [],
   "source": []
  },
  {
   "cell_type": "markdown",
   "id": "f98ab0ad",
   "metadata": {},
   "source": [
    "**[실습] friend_df**"
   ]
  },
  {
   "cell_type": "code",
   "execution_count": null,
   "id": "9461a01c",
   "metadata": {},
   "outputs": [],
   "source": []
  },
  {
   "cell_type": "markdown",
   "id": "b58ac3ef",
   "metadata": {},
   "source": [
    "**1) 2번 인덱스 레이블 이용**"
   ]
  },
  {
   "cell_type": "code",
   "execution_count": null,
   "id": "ab23ded8",
   "metadata": {},
   "outputs": [],
   "source": []
  },
  {
   "cell_type": "markdown",
   "id": "17b5ae83",
   "metadata": {},
   "source": [
    "**2) 0,2번 인덱스 레이블 이용**"
   ]
  },
  {
   "cell_type": "code",
   "execution_count": null,
   "id": "7e5954f3",
   "metadata": {},
   "outputs": [],
   "source": []
  },
  {
   "cell_type": "markdown",
   "id": "7e87eaef",
   "metadata": {},
   "source": [
    "**3) 0,2번 행을 대상으로 name, job 컬럼만 가져오기**"
   ]
  },
  {
   "cell_type": "code",
   "execution_count": null,
   "id": "04e86890",
   "metadata": {},
   "outputs": [],
   "source": []
  },
  {
   "cell_type": "markdown",
   "id": "68c0c6b3",
   "metadata": {},
   "source": [
    "**4) iloc 이용 : 0번 행 가져오기**"
   ]
  },
  {
   "cell_type": "code",
   "execution_count": null,
   "id": "3974b17c",
   "metadata": {},
   "outputs": [],
   "source": []
  },
  {
   "cell_type": "markdown",
   "id": "764ca0a5",
   "metadata": {},
   "source": [
    "**5) iloc 이용 : 1번 행의 0번 칼럼의 값 가져오기**"
   ]
  },
  {
   "cell_type": "code",
   "execution_count": null,
   "id": "6e04eafa",
   "metadata": {},
   "outputs": [],
   "source": []
  },
  {
   "cell_type": "markdown",
   "id": "c75fac8a",
   "metadata": {},
   "source": [
    "**6) iloc 이용 : 0,1번 행 가져오기**"
   ]
  },
  {
   "cell_type": "code",
   "execution_count": null,
   "id": "5daf4d00",
   "metadata": {},
   "outputs": [],
   "source": []
  },
  {
   "cell_type": "markdown",
   "id": "38ba3fa1",
   "metadata": {},
   "source": [
    "**7) iloc 이용 : 0,1번 행의 0번 칼럼 가져오기**"
   ]
  },
  {
   "cell_type": "code",
   "execution_count": null,
   "id": "8b984499",
   "metadata": {},
   "outputs": [],
   "source": []
  },
  {
   "cell_type": "markdown",
   "id": "d46b0ef1",
   "metadata": {},
   "source": [
    "**8) iloc 이용 : 0.1번 행의 0,1번 칼럼 가져오기**"
   ]
  },
  {
   "cell_type": "code",
   "execution_count": null,
   "id": "ca95f03f",
   "metadata": {},
   "outputs": [],
   "source": []
  },
  {
   "cell_type": "markdown",
   "id": "46ae2cbc",
   "metadata": {},
   "source": [
    "**9) iloc 이용 : 특정 값 수정 - nate 이름 변경하기**"
   ]
  },
  {
   "cell_type": "code",
   "execution_count": null,
   "id": "7a8b6b0f",
   "metadata": {},
   "outputs": [],
   "source": []
  },
  {
   "cell_type": "markdown",
   "id": "b1568a52",
   "metadata": {},
   "source": [
    "**10) loc 이용 : 행 추가**"
   ]
  },
  {
   "cell_type": "code",
   "execution_count": null,
   "id": "f77a1499",
   "metadata": {},
   "outputs": [],
   "source": []
  },
  {
   "cell_type": "markdown",
   "id": "d35fb021",
   "metadata": {},
   "source": [
    "#### 11) filter 이용"
   ]
  },
  {
   "cell_type": "code",
   "execution_count": null,
   "id": "876dc04c",
   "metadata": {},
   "outputs": [],
   "source": []
  },
  {
   "cell_type": "code",
   "execution_count": null,
   "id": "cc07a6e7",
   "metadata": {},
   "outputs": [],
   "source": []
  },
  {
   "cell_type": "code",
   "execution_count": null,
   "id": "93b03715",
   "metadata": {},
   "outputs": [],
   "source": []
  },
  {
   "cell_type": "code",
   "execution_count": null,
   "id": "fe0ea105",
   "metadata": {},
   "outputs": [],
   "source": []
  },
  {
   "cell_type": "code",
   "execution_count": null,
   "id": "759d61c3",
   "metadata": {},
   "outputs": [],
   "source": []
  },
  {
   "cell_type": "markdown",
   "id": "2fdc031c",
   "metadata": {},
   "source": [
    "**[실습] student_df**"
   ]
  },
  {
   "cell_type": "code",
   "execution_count": null,
   "id": "552a3f25",
   "metadata": {},
   "outputs": [],
   "source": []
  },
  {
   "cell_type": "markdown",
   "id": "7c27bfc1",
   "metadata": {},
   "source": [
    "**1) loc 사용해서 2번 행 가져오기**"
   ]
  },
  {
   "cell_type": "code",
   "execution_count": null,
   "id": "d04e517d",
   "metadata": {},
   "outputs": [],
   "source": []
  },
  {
   "cell_type": "markdown",
   "id": "63d4687d",
   "metadata": {},
   "source": [
    "**2) loc 사용해서 1번 행의 수학 점수 가져오기**"
   ]
  },
  {
   "cell_type": "code",
   "execution_count": null,
   "id": "abb5b947",
   "metadata": {},
   "outputs": [],
   "source": []
  },
  {
   "cell_type": "markdown",
   "id": "7df291f1",
   "metadata": {},
   "source": [
    "**3) loc 사용해서 전체 행의 수학 점수 가져오기**"
   ]
  },
  {
   "cell_type": "code",
   "execution_count": null,
   "id": "b5494f34",
   "metadata": {},
   "outputs": [],
   "source": []
  },
  {
   "cell_type": "markdown",
   "id": "3cc7099a",
   "metadata": {},
   "source": [
    "#### 4) 특정 행 조회"
   ]
  },
  {
   "cell_type": "code",
   "execution_count": null,
   "id": "411ed67c",
   "metadata": {
    "scrolled": false
   },
   "outputs": [],
   "source": []
  },
  {
   "cell_type": "code",
   "execution_count": null,
   "id": "65bf8bd3",
   "metadata": {},
   "outputs": [],
   "source": []
  },
  {
   "cell_type": "markdown",
   "id": "b2d03676",
   "metadata": {},
   "source": [
    "**[실습] month_df**"
   ]
  },
  {
   "cell_type": "code",
   "execution_count": null,
   "id": "b576786b",
   "metadata": {},
   "outputs": [],
   "source": []
  },
  {
   "cell_type": "markdown",
   "id": "93d83c23",
   "metadata": {},
   "source": [
    "**1) loc 사용해서 2월 행 가져오기**"
   ]
  },
  {
   "cell_type": "code",
   "execution_count": null,
   "id": "2ad8e0f8",
   "metadata": {},
   "outputs": [],
   "source": []
  },
  {
   "cell_type": "markdown",
   "id": "9cc7e886",
   "metadata": {},
   "source": [
    "**2) loc 사용해서 전체 행의 영어 컬럼 가져오기**"
   ]
  },
  {
   "cell_type": "code",
   "execution_count": null,
   "id": "410c3b0e",
   "metadata": {},
   "outputs": [],
   "source": []
  },
  {
   "cell_type": "markdown",
   "id": "5877e95a",
   "metadata": {},
   "source": [
    "**3) loc 사용해서 2월~3월행의 전체 컬럼 가져오기**"
   ]
  },
  {
   "cell_type": "code",
   "execution_count": null,
   "id": "900cdbdd",
   "metadata": {},
   "outputs": [],
   "source": []
  },
  {
   "cell_type": "markdown",
   "id": "b302961a",
   "metadata": {},
   "source": [
    "**4) iloc 사용해서 2월~3월행의 전체 컬럼 가져오기**"
   ]
  },
  {
   "cell_type": "code",
   "execution_count": null,
   "id": "82fdd8d7",
   "metadata": {},
   "outputs": [],
   "source": []
  },
  {
   "cell_type": "code",
   "execution_count": null,
   "id": "9a077cad",
   "metadata": {},
   "outputs": [],
   "source": []
  },
  {
   "cell_type": "code",
   "execution_count": null,
   "id": "04886843",
   "metadata": {},
   "outputs": [],
   "source": []
  }
 ],
 "metadata": {
  "kernelspec": {
   "display_name": "Python 3 (ipykernel)",
   "language": "python",
   "name": "python3"
  },
  "language_info": {
   "codemirror_mode": {
    "name": "ipython",
    "version": 3
   },
   "file_extension": ".py",
   "mimetype": "text/x-python",
   "name": "python",
   "nbconvert_exporter": "python",
   "pygments_lexer": "ipython3",
   "version": "3.9.12"
  }
 },
 "nbformat": 4,
 "nbformat_minor": 5
}
