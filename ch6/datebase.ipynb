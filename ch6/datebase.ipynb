{
 "cells": [
  {
   "cell_type": "code",
   "execution_count": null,
   "metadata": {},
   "outputs": [],
   "source": []
  },
  {
   "attachments": {},
   "cell_type": "markdown",
   "metadata": {},
   "source": [
    "####SQLlite\n",
    "\n",
    "    - RDBMS(관계형 데이터 베이스)\n",
    "    - 서버가 아니라 응용 프로그램에 넣고 사용하는 가벼운 데이터베이스\n",
    "    - python,핸드폰, 스프링 부트"
   ]
  },
  {
   "attachments": {},
   "cell_type": "markdown",
   "metadata": {},
   "source": []
  },
  {
   "cell_type": "code",
   "execution_count": 4,
   "metadata": {},
   "outputs": [
    {
     "name": "stdout",
     "output_type": "stream",
     "text": [
      "sqllite3 vesion 2.6.0\n",
      "sqllite3 vesion 3.42.0\n",
      "date 2023-06-23 10:47:56\n"
     ]
    }
   ],
   "source": [
    "import sqlite3\n",
    "import datetime\n",
    "\n",
    "print(\"sqllite3 vesion\",sqlite3.version)\n",
    "print(\"sqllite3 vesion\",sqlite3.sqlite_version)\n",
    "\n",
    "now = datetime.datetime.now()\n",
    "nowDateTime = now.strftime(\"%Y-%m-%d %H:%M:%S\")\n",
    "print(\"date\",nowDateTime)"
   ]
  },
  {
   "attachments": {},
   "cell_type": "markdown",
   "metadata": {},
   "source": [
    "#### 데이터베이스 생성"
   ]
  },
  {
   "cell_type": "code",
   "execution_count": 5,
   "metadata": {},
   "outputs": [],
   "source": [
    "conn = sqlite3.connect(\"/source/pythonsource/resource/test.db\",isolation_level=None)"
   ]
  },
  {
   "cell_type": "code",
   "execution_count": 6,
   "metadata": {},
   "outputs": [],
   "source": [
    "cursor = conn.cursor()"
   ]
  },
  {
   "cell_type": "code",
   "execution_count": 9,
   "metadata": {},
   "outputs": [
    {
     "data": {
      "text/plain": [
       "<sqlite3.Cursor at 0x2bdcd9235c0>"
      ]
     },
     "execution_count": 9,
     "metadata": {},
     "output_type": "execute_result"
    }
   ],
   "source": [
    "cursor.execute(\"create table if not exists users(id integer primary key, username text, email text,phone text, website text, regdate text)\")"
   ]
  },
  {
   "cell_type": "code",
   "execution_count": 27,
   "metadata": {},
   "outputs": [
    {
     "data": {
      "text/plain": [
       "<sqlite3.Cursor at 0x2bdcd9235c0>"
      ]
     },
     "execution_count": 27,
     "metadata": {},
     "output_type": "execute_result"
    }
   ],
   "source": [
    "cursor.execute(\"insert into users(id, username,email,phone,website,regdate) \"\n",
    "               \"values(1,'kim','kim@naver.com','010-0000-1111','kim.com',?)\",(nowDateTime,))# 하나일때는 ,를 넣어야함"
   ]
  },
  {
   "cell_type": "code",
   "execution_count": 28,
   "metadata": {},
   "outputs": [
    {
     "data": {
      "text/plain": [
       "<sqlite3.Cursor at 0x2bdcd9235c0>"
      ]
     },
     "execution_count": 28,
     "metadata": {},
     "output_type": "execute_result"
    }
   ],
   "source": [
    "cursor.execute(\"insert into users(id, username,email,phone,website,regdate) \"\n",
    "               \"values(?,?,?,?,?,?)\",(2,'jim','jim@naver.com','010-0100-1111','jim.com',nowDateTime))"
   ]
  },
  {
   "cell_type": "code",
   "execution_count": 29,
   "metadata": {},
   "outputs": [
    {
     "data": {
      "text/plain": [
       "<sqlite3.Cursor at 0x2bdcd9235c0>"
      ]
     },
     "execution_count": 29,
     "metadata": {},
     "output_type": "execute_result"
    }
   ],
   "source": [
    "userList =((3,'bim','bim@naver.com','010-0100-1121','bim.com',nowDateTime),\n",
    "           (4,'tim','tim@naver.com','010-0100-1331','tim.com',nowDateTime),\n",
    "           (5,'yim','yim@naver.com','010-0100-1221','yim.com',nowDateTime))\n",
    "\n",
    "cursor.executemany(\"insert into users(id,username,email,phone,website,regdate) \"\n",
    "                   \"values(?,?,?,?,?,?)\",userList)"
   ]
  },
  {
   "cell_type": "code",
   "execution_count": 25,
   "metadata": {},
   "outputs": [
    {
     "data": {
      "text/plain": [
       "3"
      ]
     },
     "execution_count": 25,
     "metadata": {},
     "output_type": "execute_result"
    }
   ],
   "source": [
    "cursor.execute(\"delete from users\").rowcount"
   ]
  },
  {
   "attachments": {},
   "cell_type": "markdown",
   "metadata": {},
   "source": [
    "데이터 조회\n",
    "    -fetchone(),fetchmany(),fetchall()"
   ]
  },
  {
   "cell_type": "code",
   "execution_count": 21,
   "metadata": {},
   "outputs": [
    {
     "data": {
      "text/plain": [
       "<sqlite3.Cursor at 0x2bdcd9235c0>"
      ]
     },
     "execution_count": 21,
     "metadata": {},
     "output_type": "execute_result"
    }
   ],
   "source": [
    "cursor.execute(\"select * from users\")"
   ]
  },
  {
   "cell_type": "code",
   "execution_count": 30,
   "metadata": {},
   "outputs": [],
   "source": [
    "cursor.fetchone()"
   ]
  },
  {
   "cell_type": "code",
   "execution_count": 31,
   "metadata": {},
   "outputs": [
    {
     "data": {
      "text/plain": [
       "[]"
      ]
     },
     "execution_count": 31,
     "metadata": {},
     "output_type": "execute_result"
    }
   ],
   "source": [
    "cursor.fetchmany(size=2)"
   ]
  },
  {
   "cell_type": "code",
   "execution_count": 32,
   "metadata": {},
   "outputs": [
    {
     "data": {
      "text/plain": [
       "[]"
      ]
     },
     "execution_count": 32,
     "metadata": {},
     "output_type": "execute_result"
    }
   ],
   "source": [
    "cursor.fetchall()"
   ]
  },
  {
   "cell_type": "code",
   "execution_count": 33,
   "metadata": {},
   "outputs": [],
   "source": [
    "for c in cursor.fetchall():\n",
    "    print(c)"
   ]
  },
  {
   "cell_type": "code",
   "execution_count": 35,
   "metadata": {},
   "outputs": [
    {
     "name": "stdout",
     "output_type": "stream",
     "text": [
      "(5, 'yim', 'yim@naver.com', '010-0100-1221', 'yim.com', '2023-06-23 10:47:56')\n",
      "(4, 'tim', 'tim@naver.com', '010-0100-1331', 'tim.com', '2023-06-23 10:47:56')\n",
      "(3, 'bim', 'bim@naver.com', '010-0100-1121', 'bim.com', '2023-06-23 10:47:56')\n",
      "(2, 'jim', 'jim@naver.com', '010-0100-1111', 'jim.com', '2023-06-23 10:47:56')\n",
      "(1, 'kim', 'kim@naver.com', '010-0000-1111', 'kim.com', '2023-06-23 10:47:56')\n"
     ]
    }
   ],
   "source": [
    "for c in cursor.execute(\"select * from users order by id desc\"):\n",
    "    print(c)"
   ]
  },
  {
   "cell_type": "code",
   "execution_count": 36,
   "metadata": {},
   "outputs": [
    {
     "data": {
      "text/plain": [
       "[(4,\n",
       "  'tim',\n",
       "  'tim@naver.com',\n",
       "  '010-0100-1331',\n",
       "  'tim.com',\n",
       "  '2023-06-23 10:47:56')]"
      ]
     },
     "execution_count": 36,
     "metadata": {},
     "output_type": "execute_result"
    }
   ],
   "source": [
    "cursor.execute(\"select * from users where id=%d\" % 4)\n",
    "cursor.fetchall()"
   ]
  },
  {
   "cell_type": "code",
   "execution_count": 38,
   "metadata": {},
   "outputs": [
    {
     "data": {
      "text/plain": [
       "[(3,\n",
       "  'bim',\n",
       "  'bim@naver.com',\n",
       "  '010-0100-1121',\n",
       "  'bim.com',\n",
       "  '2023-06-23 10:47:56'),\n",
       " (5,\n",
       "  'yim',\n",
       "  'yim@naver.com',\n",
       "  '010-0100-1221',\n",
       "  'yim.com',\n",
       "  '2023-06-23 10:47:56')]"
      ]
     },
     "execution_count": 38,
     "metadata": {},
     "output_type": "execute_result"
    }
   ],
   "source": [
    "cursor.execute(\"select * from users where id in (%d,%d)\" % (3,5))\n",
    "cursor.fetchall()"
   ]
  },
  {
   "cell_type": "code",
   "execution_count": 39,
   "metadata": {},
   "outputs": [
    {
     "data": {
      "text/plain": [
       "<sqlite3.Cursor at 0x2bdcd9235c0>"
      ]
     },
     "execution_count": 39,
     "metadata": {},
     "output_type": "execute_result"
    }
   ],
   "source": [
    "cursor.execute(\"update users set username = ? where id=?\",(\"weqeqdsi2m\",2))"
   ]
  },
  {
   "cell_type": "code",
   "execution_count": 40,
   "metadata": {},
   "outputs": [
    {
     "data": {
      "text/plain": [
       "<sqlite3.Cursor at 0x2bdcd9235c0>"
      ]
     },
     "execution_count": 40,
     "metadata": {},
     "output_type": "execute_result"
    }
   ],
   "source": [
    "cursor.execute(\"delete from users where id=?\",(5,))"
   ]
  },
  {
   "cell_type": "code",
   "execution_count": null,
   "metadata": {},
   "outputs": [],
   "source": []
  }
 ],
 "metadata": {
  "kernelspec": {
   "display_name": "pythonsource",
   "language": "python",
   "name": "python3"
  },
  "language_info": {
   "codemirror_mode": {
    "name": "ipython",
    "version": 3
   },
   "file_extension": ".py",
   "mimetype": "text/x-python",
   "name": "python",
   "nbconvert_exporter": "python",
   "pygments_lexer": "ipython3",
   "version": "3.11.4"
  },
  "orig_nbformat": 4
 },
 "nbformat": 4,
 "nbformat_minor": 2
}
